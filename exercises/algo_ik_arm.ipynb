{
 "cells": [
  {
   "attachments": {},
   "cell_type": "markdown",
   "metadata": {},
   "source": [
    "# Kinematische Berechnungen für einen 2-gliedrigen Arm in zwei Dimensionen\n",
    "\n",
    "Gegeben ist ein zweigliedriger Manipulator. Die Länge der Segmente sind mit 1 initialisiert (normiert) und es gibt eine Visualisierung der gegebenen Postur.\n",
    "\n",
    "## Aufgabe 4a)\n",
    "\n",
    "Ihre Aufgabe ist es die inverse Kinematik für diesen Manipulator zu erstellen. Die entsprechende Stelle ist mit dem TODO markiert."
   ]
  },
  {
   "attachments": {},
   "cell_type": "markdown",
   "metadata": {},
   "source": [
    "## Zunächst: Ein einfacher eingliedriger Arm\n",
    "\n",
    "Hier ist zur Veranschaulichung die Lösung bereits bereitgestellt:"
   ]
  },
  {
   "cell_type": "code",
   "execution_count": null,
   "metadata": {},
   "outputs": [],
   "source": [
    "import numpy as np\n",
    "import matplotlib.pyplot as plt\n",
    "\n",
    "class OneSegmentManipulator:\n",
    "    def __init__(self, length=1):\n",
    "        '''Constructor to set the length of the segment'''\n",
    "        self.length = length\n",
    "    \n",
    "    def forward_kinematics(self, theta):\n",
    "        '''Method to compute the forward kinematics of the manipulator\n",
    "        based on the joint angle theta\n",
    "        '''\n",
    "        x = self.length * np.cos(theta)\n",
    "        y = self.length * np.sin(theta)\n",
    "        return np.array([x, y])\n",
    "    \n",
    "    def inverse_kinematics(self, target):\n",
    "        '''Method to compute the inverse kinematics of the manipulator\n",
    "        based on the target position (x, y)\n",
    "        '''\n",
    "        x, y = target\n",
    "        theta = np.arctan2(y, x)\n",
    "        return np.array([theta])\n",
    "    \n",
    "    def visualize(self, theta):\n",
    "        '''Method to visualize the manipulator given the joint angle theta'''\n",
    "        p1 = np.array([0, 0])\n",
    "        p2 = np.array([self.length * np.cos(theta),\n",
    "                       self.length * np.sin(theta)])\n",
    "        \n",
    "        # Plot the segment of the manipulator\n",
    "        plt.plot([p1[0], p2[0]], [p1[1], p2[1]], 'bo-')\n",
    "        plt.xlim(-2, 2)\n",
    "        plt.ylim(-2, 2)\n",
    "        plt.show()\n",
    "\n",
    "# Create an instance of the OneSegmentManipulator class with length 1\n",
    "manipulator = OneSegmentManipulator(length=1)\n",
    "\n",
    "# Compute the forward kinematics given the joint angle pi/4\n",
    "theta = np.pi/4\n",
    "endpoint = manipulator.forward_kinematics(theta)\n",
    "print('Endpoint position:', endpoint)\n",
    "\n",
    "# Compute the inverse kinematics given the target position (0.5, 0.5)\n",
    "target = np.array([0.5, 0.5])\n",
    "joint_angles = manipulator.inverse_kinematics(target)\n",
    "print('Joint angles:', joint_angles)\n",
    "\n",
    "# Visualize the arm posture given the joint angle pi/4\n",
    "manipulator.visualize(theta)\n"
   ]
  },
  {
   "attachments": {},
   "cell_type": "markdown",
   "metadata": {},
   "source": [
    "## Der zweigliedrige Arm\n",
    "\n",
    "Hier sollen Sie nun selbst die Berechnung der inversen Kinematik erstellen und eintragen.\n",
    "\n",
    "Zum Testen ihrer Ansätze sind unten Unit Tests bereitgestellt."
   ]
  },
  {
   "cell_type": "code",
   "execution_count": null,
   "metadata": {},
   "outputs": [],
   "source": [
    "import numpy as np\n",
    "import matplotlib.pyplot as plt\n",
    "\n",
    "class TwoSegmentManipulator:\n",
    "    def __init__(self, l1=1, l2=1):\n",
    "        '''Constructor to set the length of the two segments'''\n",
    "        self.l1 = l1\n",
    "        self.l2 = l2\n",
    "    \n",
    "    def forward_kinematics(self, theta):\n",
    "        '''Method to compute the forward kinematics of the manipulator\n",
    "        based on the joint angles theta\n",
    "        '''\n",
    "        x = self.l1*np.cos(theta[0]) + self.l2*np.cos(theta[0]+theta[1])\n",
    "        y = self.l1*np.sin(theta[0]) + self.l2*np.sin(theta[0]+theta[1])\n",
    "        return np.array([x, y])\n",
    "    \n",
    "    def inverse_kinematics(self, target):\n",
    "        '''Method to compute the inverse kinematics of the manipulator\n",
    "        based on the target position (x, y)\n",
    "        '''\n",
    "        # TODO - you have to implement this\n",
    "        return np.array([0., 0.])\n",
    "    \n",
    "    def visualize(self, theta):\n",
    "        '''Method to visualize the manipulator given the joint angles theta'''\n",
    "        p1 = np.array([0, 0])\n",
    "        p2 = np.array([self.l1*np.cos(theta[0]), self.l1*np.sin(theta[0])])\n",
    "        p3 = p2 + np.array([self.l2*np.cos(theta[0]+theta[1]), self.l2*np.sin(theta[0]+theta[1])])\n",
    "        \n",
    "        # Plot the segments of the manipulator\n",
    "        plt.plot([p1[0], p2[0]], [p1[1], p2[1]], 'bo-')\n",
    "        plt.plot([p2[0], p3[0]], [p2[1], p3[1]], 'ro-')\n",
    "        plt.xlim(-2, 2)\n",
    "        plt.ylim(-2, 2)\n",
    "        plt.show()\n"
   ]
  },
  {
   "attachments": {},
   "cell_type": "markdown",
   "metadata": {},
   "source": [
    "## Aufruf der Klassen mit Beispielen"
   ]
  },
  {
   "cell_type": "code",
   "execution_count": null,
   "metadata": {},
   "outputs": [],
   "source": [
    "# Create a new manipulator object\n",
    "manipulator = TwoSegmentManipulator()\n",
    "\n",
    "# Test the forward kinematics function\n",
    "theta = np.array([np.pi/4, np.pi/4])\n",
    "print(manipulator.forward_kinematics(theta))  # prints [1.70710678 1.70710678]\n",
    "\n",
    "# Test the inverse kinematics function\n",
    "target = np.array([-1, -1])\n",
    "theta_goal = manipulator.inverse_kinematics(target)\n",
    "print(theta_goal)  # prints [0.78539816 1.17809725]\n",
    "\n",
    "print(manipulator.inverse_kinematics(np.array([0, 2])))\n",
    "\n",
    "# Visualize the arm posture\n",
    "manipulator.visualize(theta)\n"
   ]
  },
  {
   "attachments": {},
   "cell_type": "markdown",
   "metadata": {},
   "source": [
    "## Unit Tests zum Testen der inversen Kinematiken"
   ]
  },
  {
   "cell_type": "code",
   "execution_count": null,
   "metadata": {},
   "outputs": [],
   "source": [
    "def test_inverse_kinematics():\n",
    "    manipulator = TwoSegmentManipulator()\n",
    "    assert np.allclose(manipulator.inverse_kinematics(np.array([2, 0])), np.array([0., 0.]), atol=0.01)\n",
    "    assert np.allclose(manipulator.inverse_kinematics(np.array([0, 2])), np.array([1.57, 0.]), atol=0.01)\n",
    "    assert np.allclose(manipulator.inverse_kinematics(np.array([-2, 0])), np.array([3.14, 0.]), atol=0.01)\n",
    "    assert np.allclose(manipulator.inverse_kinematics(np.array([1.4142, 1.4142])), np.array([0.785, 0.]), atol=0.01)\n",
    "    assert np.allclose(manipulator.inverse_kinematics(np.array([-1.4142, -1.4142])), np.array([-2.356, 0.]), atol=0.01)\n",
    "    # Why might these be problematic? What would be a better alternative?\n",
    "    assert np.allclose(manipulator.inverse_kinematics(np.array([1., 1.])), np.array([0., 1.571]), atol=0.01)\n",
    "    assert np.allclose(manipulator.inverse_kinematics(np.array([-1., -1.])), np.array([-3.142, 1.571]), atol=0.01)\n",
    "\n",
    "test_inverse_kinematics()"
   ]
  },
  {
   "cell_type": "code",
   "execution_count": null,
   "metadata": {},
   "outputs": [],
   "source": []
  }
 ],
 "metadata": {
  "kernelspec": {
   "display_name": "py_38",
   "language": "python",
   "name": "python3"
  },
  "language_info": {
   "codemirror_mode": {
    "name": "ipython",
    "version": 3
   },
   "file_extension": ".py",
   "mimetype": "text/x-python",
   "name": "python",
   "nbconvert_exporter": "python",
   "pygments_lexer": "ipython3",
   "version": "3.11.8"
  },
  "orig_nbformat": 4
 },
 "nbformat": 4,
 "nbformat_minor": 2
}
