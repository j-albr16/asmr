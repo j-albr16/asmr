{
 "cells": [
  {
   "cell_type": "markdown",
   "id": "491ff0b0",
   "metadata": {},
   "source": [
    "# Beispiel\n",
    "\n",
    "## AMCL and Navigation\n",
    "\n",
    "In diesem Beispiel wird eine Turtlebot Simulation gestartet. Dabei ist die Map bekannt. Mittels [AMCL](https://roboticsknowledgebase.com/wiki/state-estimation/adaptive-monte-carlo-localization/) wird der Turtlebot lokalisiert.\n",
    "\n",
    "### Starten der Simulation\n",
    "\n",
    "Bevor die Simulation gestartet werden kann, muss natürlich zunächst [ROS2 gesourced](../setup/sourcen.md) werden. Danach müssen noch einige Umgebungsvariablen gesetzt werden:\n",
    "\n",
    "```bash\n",
    "source /opt/ros/humble/setup.bash\n",
    "export TURTLEBOT3_MODEL=waffle\n",
    "export GAZEBO_MODEL_PATH=$GAZEBO_MODEL_PATH:/opt/ros/humble/share/turtlebot3_gazebo/models\n",
    "```\n",
    "\n",
    "Nun kann die Simulation mit folgendem Befehl gestartet werden:\n",
    "\n",
    "```bash\n",
    "ros2 launch nav2_bringup tb3_simulation_launch.py headless:=False\n",
    "```\n",
    "\n",
    "Es sollten die Programme `rviz` und `gazebo` starten. Folgendes sollte in `rviz` zu sehen sein:\n",
    "\n",
    "![rviz](./base.png)\n",
    "\n",
    "Nun kann die Lokalisation gestartet werden. Klicke hierfür zunächst auf `2D Pose Estimate` und dann dorthin auf die Karte in `rviz`, wo du den Turtlebot vermutest. Der Pfeil soll schließlich in die vermutete Ausrichtung bzw \"Sicht\"-Richtung des Turtlebots zeigen.\n",
    "\n",
    "Es sollte Folgendes zu sehen sein:\n",
    "\n",
    "![pos](./pos.png)\n",
    "\n",
    "### Navigation\n",
    "\n",
    "Um den Roboter zu bewegen. Klicke auf `Nav Goal` und klicke auf die gewünschte Position auf der Karte. Hier entspricht der Pfeil der gewünschten Endausrichtung.\n",
    "\n",
    "Man sollte nun erkennen, dass sich der Roboter bewegt:\n",
    "\n",
    "![nav](./nav.png)\n",
    "\n",
    "## SLAM\n",
    "\n",
    "Um eine SLAM Simulation zu starten, muss auch hier wieder zunächst die ROS Umgebung gesetzt werden:\n",
    "\n",
    "```bash\n",
    "source /opt/ros/humble/setup.bash\n",
    "export TURTLEBOT3_MODEL=waffle\n",
    "```\n",
    "\n",
    "Nun kann die Simulation mit folgendem Befehl gestartet werden:\n",
    "\n",
    "```bash\n",
    "ros2 launch nav2_bringup tb3_simulation_launch.py slam:=True\n",
    "```"
   ]
  }
 ],
 "metadata": {
  "jupytext": {
   "formats": "md:myst",
   "text_representation": {
    "extension": ".md",
    "format_name": "myst"
   }
  },
  "kernelspec": {
   "display_name": "Python 3",
   "language": "python",
   "name": "python3"
  },
  "source_map": [
   11
  ]
 },
 "nbformat": 4,
 "nbformat_minor": 5
}