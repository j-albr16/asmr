{
 "cells": [
  {
   "cell_type": "markdown",
   "metadata": {
    "colab_type": "text",
    "id": "dzNng6vCL9eP"
   },
   "source": [
    "# Python Kompaktanleitung"
   ]
  },
  {
   "cell_type": "markdown",
   "metadata": {
    "colab_type": "text",
    "id": "0vJLt3JRL9eR"
   },
   "source": [
    "Diese Einleitung in Python basiert auf dem [Python Tutorial](https://github.com/cs231n/cs231n.github.io/blob/master/python-colab.ipynb) von Kevin Zakka.\n",
    "\n",
    "Diese übersetzte und stellenweise angepasste und gekürzte Fassung wurde von Florian Bohlken und Jan Albrecht im Rahmen der Veranstaltung \"Autonome Systeme und mobile Roboter\" im Sommersemester 2024 von Prof. Malte Schilling verfasst."
   ]
  },
  {
   "cell_type": "markdown",
   "metadata": {
    "colab_type": "text",
    "id": "qVrTo-LhL9eS"
   },
   "source": [
    "## Einführung"
   ]
  },
  {
   "cell_type": "markdown",
   "metadata": {
    "colab_type": "text",
    "id": "9t1gKp9PL9eV"
   },
   "source": [
    "Python ist an sich bereits eine großartige universelle Programmiersprache, aber mit Hilfe einiger beliebter Bibliotheken (numpy, scipy, matplotlib) wird sie zu einer leistungsstarken Umgebung für wissenschaftliches Rechnen.\n",
    "\n",
    "Wir gehen davon aus, dass viele von euch bereits Erfahrung mit Python und numpy haben. Für diejenigen, die es nicht haben, wird dieser Abschnitt als eine kurze Einführung sowohl in die Python-Programmiersprache als auch in die Verwendung von Python für wissenschaftliches Rechnen dienen."
   ]
  },
  {
   "cell_type": "markdown",
   "metadata": {
    "colab_type": "text",
    "id": "U1PvreR9L9eW"
   },
   "source": [
    "Folgende Themen werden in dieser Anleitung behandelt:\n",
    "\n",
    "* **Python Basics**: Grundlegende Datentypen (Container, Listen, Dictionaries, Sets, Tupel), Funktionen, Klassen\n",
    "* **Numpy**: Arrays, Array-Indizierung, Datentypen, Array-Mathematik, Broadcasting\n",
    "* **Matplotlib**: Visualisierung, Subplots, Bilder"
   ]
  },
  {
   "cell_type": "markdown",
   "metadata": {
    "colab_type": "text",
    "id": "nxvEkGXPM3Xh"
   },
   "source": [
    "## Eine kurze Anmerkung zu Python-Versionen\n",
    "\n",
    "Seit dem 1. Januar 2020 hat Python [offiziell](https://www.python.org/doc/sunset-python-2/) die Unterstützung für `python2` eingestellt. Jupyterhub läuft momentan mit python 3.10, aber auf deinem eigenen Rechner werden die hier gezeigten Funktionen auch mit anderen Versionen kompatibel sein. Als Richtwert sollte diese mindestens Python 3.7 sein. Du kannst deine Python-Version auf der Befehlszeile überprüfen, indem du `python3 --version` ausführst."
   ]
  },
  {
   "cell_type": "code",
   "execution_count": null,
   "metadata": {
    "colab": {
     "base_uri": "https://localhost:8080/",
     "height": 34
    },
    "colab_type": "code",
    "id": "1L4Am0QATgOc",
    "outputId": "bb5ee3ac-8683-44ab-e599-a2077510f327",
    "tags": []
   },
   "outputs": [],
   "source": [
    "!python3 --version"
   ]
  },
  {
   "cell_type": "markdown",
   "metadata": {
    "colab_type": "text",
    "id": "JAFKYgrpL9eY"
   },
   "source": [
    "## Python Basics"
   ]
  },
  {
   "cell_type": "markdown",
   "metadata": {
    "colab_type": "text",
    "id": "RbFS6tdgL9ea"
   },
   "source": [
    "Python ist eine dynamisch typisierte high-level Multiparadigma-Programmiersprache. Python-Code wird oft nachgesagt nahezu wie Pseudocode zu sein, da man sehr leistungsstarke Ideen in sehr wenigen Codezeilen sehr lesbar auszudrücken kann. Als Beispiel hier eine Python-Implementierung des klassischen Quicksort-Algorithmus:"
   ]
  },
  {
   "cell_type": "code",
   "execution_count": null,
   "metadata": {
    "colab": {
     "base_uri": "https://localhost:8080/",
     "height": 34
    },
    "colab_type": "code",
    "id": "cYb0pjh1L9eb",
    "outputId": "9a8e37de-1dc1-4092-faee-06ad4ff2d73a",
    "tags": []
   },
   "outputs": [],
   "source": [
    "def quicksort(arr):\n",
    "    if len(arr) <= 1:\n",
    "        return arr\n",
    "    pivot = arr[len(arr) // 2]\n",
    "    left = [x for x in arr if x < pivot]\n",
    "    middle = [x for x in arr if x == pivot]\n",
    "    right = [x for x in arr if x > pivot]\n",
    "    return quicksort(left) + middle + quicksort(right)\n",
    "\n",
    "\n",
    "print(quicksort([3, 6, 8, 10, 1, 2, 1]))"
   ]
  },
  {
   "cell_type": "markdown",
   "metadata": {
    "colab_type": "text",
    "id": "NwS_hu4xL9eo"
   },
   "source": [
    "### Grundlegende Datentypen"
   ]
  },
  {
   "cell_type": "markdown",
   "metadata": {
    "colab_type": "text",
    "id": "DL5sMSZ9L9eq"
   },
   "source": [
    "#### Zahlen"
   ]
  },
  {
   "cell_type": "markdown",
   "metadata": {
    "colab_type": "text",
    "id": "MGS0XEWoL9er"
   },
   "source": [
    "Ganzzahlen (Integers) und Gleitkommazahlen (Floats) funktionieren wie man es von anderen Sprachen erwarten würde:"
   ]
  },
  {
   "cell_type": "code",
   "execution_count": null,
   "metadata": {
    "colab": {
     "base_uri": "https://localhost:8080/",
     "height": 52
    },
    "colab_type": "code",
    "id": "KheDr_zDL9es",
    "outputId": "1db9f4d3-2e0d-4008-f78a-161ed52c4359",
    "tags": []
   },
   "outputs": [],
   "source": [
    "x = 3\n",
    "print(x, type(x))"
   ]
  },
  {
   "cell_type": "code",
   "execution_count": null,
   "metadata": {
    "colab": {
     "base_uri": "https://localhost:8080/",
     "height": 86
    },
    "colab_type": "code",
    "id": "sk_8DFcuL9ey",
    "outputId": "dd60a271-3457-465d-e16a-41acf12a56ab",
    "tags": []
   },
   "outputs": [],
   "source": [
    "print(x + 1)  # Addition\n",
    "print(x - 1)  # Subtraktion\n",
    "print(x * 2)  # Multiplikation\n",
    "print(x**2)  # Exponentiation"
   ]
  },
  {
   "cell_type": "code",
   "execution_count": null,
   "metadata": {
    "colab": {
     "base_uri": "https://localhost:8080/",
     "height": 52
    },
    "colab_type": "code",
    "id": "U4Jl8K0tL9e4",
    "outputId": "07e3db14-3781-42b7-8ba6-042b3f9f72ba",
    "tags": []
   },
   "outputs": [],
   "source": [
    "x += 1\n",
    "print(x)\n",
    "x *= 2\n",
    "print(x)"
   ]
  },
  {
   "cell_type": "code",
   "execution_count": null,
   "metadata": {
    "colab": {
     "base_uri": "https://localhost:8080/",
     "height": 52
    },
    "colab_type": "code",
    "id": "w-nZ0Sg_L9e9",
    "outputId": "3aa579f8-9540-46ef-935e-be887781ecb4",
    "tags": []
   },
   "outputs": [],
   "source": [
    "y = 2.5\n",
    "print(type(y))\n",
    "print(y, y + 1, y * 2, y**2)"
   ]
  },
  {
   "cell_type": "markdown",
   "metadata": {
    "colab_type": "text",
    "id": "r2A9ApyaL9fB"
   },
   "source": [
    "Beachte, dass Python im Gegensatz zu vielen anderen Sprachen keine unäre Inkrementations- (`x++`) oder Dekrementations- (`x--`) Operatoren hat. Stattdessen wird dies hier händisch ausgeführt: `x = x + 1`\n",
    "\n",
    "Python hat auch eingebaute Typen für lange Ganzzahlen und komplexe Zahlen. Du findest alle Details in der [Dokumentation](https://docs.python.org/3.10/library/stdtypes.html#numeric-types-int-float-long-complex)."
   ]
  },
  {
   "cell_type": "markdown",
   "metadata": {
    "colab_type": "text",
    "id": "EqRS7qhBL9fC"
   },
   "source": [
    "#### Booleans"
   ]
  },
  {
   "cell_type": "markdown",
   "metadata": {
    "colab_type": "text",
    "id": "Nv_LIVOJL9fD"
   },
   "source": [
    "Python implementiert alle üblichen Operatoren für Boolesche Logik, verwendet jedoch englische Wörter anstelle von Symbolen (`&&`, `||` usw.):"
   ]
  },
  {
   "cell_type": "code",
   "execution_count": null,
   "metadata": {
    "colab": {
     "base_uri": "https://localhost:8080/",
     "height": 34
    },
    "colab_type": "code",
    "id": "RvoImwgGL9fE",
    "outputId": "1517077b-edca-463f-857b-6a8c386cd387",
    "tags": []
   },
   "outputs": [],
   "source": [
    "t, f = True, False\n",
    "print(type(t))"
   ]
  },
  {
   "cell_type": "markdown",
   "metadata": {
    "colab_type": "text",
    "id": "YQgmQfOgL9fI"
   },
   "source": [
    "Betrachten wir folgend die Operatoren:"
   ]
  },
  {
   "cell_type": "code",
   "execution_count": null,
   "metadata": {
    "colab": {
     "base_uri": "https://localhost:8080/",
     "height": 86
    },
    "colab_type": "code",
    "id": "6zYm7WzCL9fK",
    "outputId": "f3cebe76-5af4-473a-8127-88a1fd60560f",
    "tags": []
   },
   "outputs": [],
   "source": [
    "print(t and f)  # Logisches UND;\n",
    "print(t or f)  # Logisches ODER;\n",
    "print(not t)  # Logisches NICHT;\n",
    "print(t != f)  # Logisches XOR;"
   ]
  },
  {
   "cell_type": "markdown",
   "metadata": {
    "colab_type": "text",
    "id": "UQnQWFEyL9fP"
   },
   "source": [
    "#### Strings"
   ]
  },
  {
   "cell_type": "code",
   "execution_count": null,
   "metadata": {
    "colab": {
     "base_uri": "https://localhost:8080/",
     "height": 34
    },
    "colab_type": "code",
    "id": "AijEDtPFL9fP",
    "outputId": "2a6b0cd7-58f1-43cf-e6b7-bf940d532549",
    "tags": []
   },
   "outputs": [],
   "source": [
    "hello = \"hello\"  # Zeichenkettenliterale können einfache Anführungszeichen verwenden\n",
    "world = \"world\"  # oder doppelte Anführungszeichen; es spielt keine Rolle\n",
    "print(hello, len(hello))"
   ]
  },
  {
   "cell_type": "code",
   "execution_count": null,
   "metadata": {
    "colab": {
     "base_uri": "https://localhost:8080/",
     "height": 34
    },
    "colab_type": "code",
    "id": "saDeaA7hL9fT",
    "outputId": "2837d0ab-9ae5-4053-d087-bfa0af81c344",
    "tags": []
   },
   "outputs": [],
   "source": [
    "hw = hello + \" \" + world  # String Konkatenation\n",
    "print(hw)"
   ]
  },
  {
   "cell_type": "code",
   "execution_count": null,
   "metadata": {
    "colab": {
     "base_uri": "https://localhost:8080/",
     "height": 34
    },
    "colab_type": "code",
    "id": "Nji1_UjYL9fY",
    "outputId": "0149b0ca-425a-4a34-8e24-8dff7080922e",
    "tags": []
   },
   "outputs": [],
   "source": [
    "hw12 = \"{} {} {}\".format(hello, world, 12)  # String Formatierung / Einsetzung\n",
    "print(hw12)"
   ]
  },
  {
   "cell_type": "markdown",
   "metadata": {
    "colab_type": "text",
    "id": "bUpl35bIL9fc"
   },
   "source": [
    "String-Objekte verfügen über eine Vielzahl nützlicher Methoden - zum Beispiel:"
   ]
  },
  {
   "cell_type": "code",
   "execution_count": null,
   "metadata": {
    "colab": {
     "base_uri": "https://localhost:8080/",
     "height": 121
    },
    "colab_type": "code",
    "id": "VOxGatlsL9fd",
    "outputId": "ab009df3-8643-4d3e-f85f-a813b70db9cb",
    "tags": []
   },
   "outputs": [],
   "source": [
    "s = \"hello\"\n",
    "print(s.capitalize())  # Ein String wird großgeschrieben; gibt \"Hello\" aus\n",
    "print(s.upper())  # Ein String wird in Großbuchstaben umgewandelt; gibt \"HELLO\" aus\n",
    "print(\n",
    "    s.rjust(7)\n",
    ")  # Ein String wird rechtsbündig ausgerichtet, mit Leerzeichen aufgefüllt\n",
    "print(s.center(7))  # Ein String wird zentriert, mit Leerzeichen aufgefüllt\n",
    "print(\n",
    "    s.replace(\"l\", \"(ell)\")\n",
    ")  # Ersetzt alle Vorkommen eines Teilstrings durch einen anderen\n",
    "print(\"  world \".strip())  # Entfernt führende und abschließende Leerzeichen"
   ]
  },
  {
   "cell_type": "markdown",
   "metadata": {
    "colab_type": "text",
    "id": "06cayXLtL9fi"
   },
   "source": [
    "Du kannst eine Liste aller String-Methoden in der [Dokumentation](https://docs.python.org/3.10/library/stdtypes.html#string-methods) finden."
   ]
  },
  {
   "cell_type": "markdown",
   "metadata": {
    "colab_type": "text",
    "id": "p-6hClFjL9fk"
   },
   "source": [
    "### Container"
   ]
  },
  {
   "cell_type": "markdown",
   "metadata": {
    "colab_type": "text",
    "id": "FD9H18eQL9fk"
   },
   "source": [
    "Python enthält mehrere integrierte Container-Typen: Listen, Wörterbücher, Mengen und Tupel."
   ]
  },
  {
   "cell_type": "markdown",
   "metadata": {
    "colab_type": "text",
    "id": "UsIWOe0LL9fn"
   },
   "source": [
    "#### Listen"
   ]
  },
  {
   "cell_type": "markdown",
   "metadata": {
    "colab_type": "text",
    "id": "wzxX7rgWL9fn"
   },
   "source": [
    "Eine Liste entspricht in Python einem Array, ist jedoch in der Größe veränderbar und kann Elemente unterschiedlicher Typen enthalten:"
   ]
  },
  {
   "cell_type": "code",
   "execution_count": null,
   "metadata": {
    "colab": {
     "base_uri": "https://localhost:8080/",
     "height": 52
    },
    "colab_type": "code",
    "id": "hk3A8pPcL9fp",
    "outputId": "b545939a-580c-4356-db95-7ad3670b46e4",
    "tags": []
   },
   "outputs": [],
   "source": [
    "xs = [3, 1, 2]  # Erstellen einer Liste\n",
    "print(xs, xs[2])\n",
    "print(xs[-1])  # Negative Indizes zählen vom Ende der Liste aus; gibt \"2\" aus"
   ]
  },
  {
   "cell_type": "code",
   "execution_count": null,
   "metadata": {
    "colab": {
     "base_uri": "https://localhost:8080/",
     "height": 34
    },
    "colab_type": "code",
    "id": "YCjCy_0_L9ft",
    "outputId": "417c54ff-170b-4372-9099-0f756f8e48af",
    "tags": []
   },
   "outputs": [],
   "source": [
    "xs[2] = \"foo\"  # Listen können Elemente unterschiedlicher Datentypen enthalten\n",
    "print(xs)"
   ]
  },
  {
   "cell_type": "code",
   "execution_count": null,
   "metadata": {
    "colab": {
     "base_uri": "https://localhost:8080/",
     "height": 34
    },
    "colab_type": "code",
    "id": "vJ0x5cF-L9fx",
    "outputId": "a97731a3-70e1-4553-d9e0-2aea227cac80",
    "tags": []
   },
   "outputs": [],
   "source": [
    "xs.append(\"bar\")  # Ein neues Element am Ende der Liste hinzufügen\n",
    "print(xs)"
   ]
  },
  {
   "cell_type": "code",
   "execution_count": null,
   "metadata": {
    "colab": {
     "base_uri": "https://localhost:8080/",
     "height": 34
    },
    "colab_type": "code",
    "id": "cxVCNRTNL9f1",
    "outputId": "508fbe59-20aa-48b5-a1b2-f90363e7a104",
    "tags": []
   },
   "outputs": [],
   "source": [
    "x = xs.pop()  # Das letzte Element der Liste entfernen und zurückgeben\n",
    "print(x, xs)"
   ]
  },
  {
   "cell_type": "markdown",
   "metadata": {
    "colab_type": "text",
    "id": "ilyoyO34L9f4"
   },
   "source": [
    "Wie bereits gewohnt findest du alle Details zu Listen in der [Dokumentation](https://docs.python.org/3.10/tutorial/datastructures.html#more-on-lists)."
   ]
  },
  {
   "cell_type": "markdown",
   "metadata": {
    "colab_type": "text",
    "id": "ovahhxd_L9f5"
   },
   "source": [
    "#### Slicing"
   ]
  },
  {
   "cell_type": "markdown",
   "metadata": {
    "colab_type": "text",
    "id": "YeSYKhv9L9f6"
   },
   "source": [
    "Zusätzlich zur Möglichkeit einzeln auf Listenlemente zuzugreifen bietet Python eine prägnante Syntax zum Zugriff auf Teillisten - das Slicing:"
   ]
  },
  {
   "cell_type": "code",
   "execution_count": null,
   "metadata": {
    "colab": {
     "base_uri": "https://localhost:8080/",
     "height": 139
    },
    "colab_type": "code",
    "id": "ninq666bL9f6",
    "outputId": "c3c2ed92-7358-4fdb-bbc0-e90f82e7e941",
    "tags": []
   },
   "outputs": [],
   "source": [
    "nums = list(\n",
    "    range(5)\n",
    ")  # range ist eine integrierte Funktion, die eine Liste von ganzen Zahlen erstellt\n",
    "print(nums)  # Gibt \"[0, 1, 2, 3, 4]\" aus\n",
    "print(\n",
    "    nums[2:4]\n",
    ")  # Holt einen Ausschnitt von Index 2 bis 4 (exklusiv); gibt \"[2, 3]\" aus\n",
    "print(nums[2:])  # Holt einen Ausschnitt von Index 2 bis zum Ende; gibt \"[2, 3, 4]\" aus\n",
    "print(\n",
    "    nums[:2]\n",
    ")  # Holt einen Ausschnitt vom Anfang bis zum Index 2 (exklusiv); gibt \"[0, 1]\" aus\n",
    "print(nums[:])  # Holt einen Ausschnitt der gesamten Liste; gibt \"[0, 1, 2, 3, 4]\" aus\n",
    "print(\n",
    "    nums[:-1]\n",
    ")  # Indexierung für Ausschnitte kann auch negativ sein; gibt \"[0, 1, 2, 3]\" aus\n",
    "nums[2:4] = [8, 9]  # Weist einen neuen Teilliste einem Ausschnitt zu\n",
    "print(nums)  # Gibt \"[0, 1, 8, 9, 4]\" aus"
   ]
  },
  {
   "cell_type": "markdown",
   "metadata": {
    "colab_type": "text",
    "id": "UONpMhF4L9f_"
   },
   "source": [
    "#### Schleifen"
   ]
  },
  {
   "cell_type": "markdown",
   "metadata": {
    "colab_type": "text",
    "id": "_DYz1j6QL9f_"
   },
   "source": [
    "Man kann folgendermaßen durch die Elemente einer Liste iterieren:"
   ]
  },
  {
   "cell_type": "code",
   "execution_count": null,
   "metadata": {
    "colab": {
     "base_uri": "https://localhost:8080/",
     "height": 69
    },
    "colab_type": "code",
    "id": "4cCOysfWL9gA",
    "outputId": "560e46c7-279c-409a-838c-64bea8d321c4",
    "tags": []
   },
   "outputs": [],
   "source": [
    "animals = [\"Katze\", \"Hund\", \"Affe\"]\n",
    "for animal in animals:\n",
    "    print(animal)"
   ]
  },
  {
   "cell_type": "markdown",
   "metadata": {
    "colab_type": "text",
    "id": "KxIaQs7pL9gE"
   },
   "source": [
    "Wenn du innerhalb einer Schleife auf den Index jedes Elements zugreifen möchtest, verwende die integrierte Funktion `enumerate`:"
   ]
  },
  {
   "cell_type": "code",
   "execution_count": null,
   "metadata": {
    "colab": {
     "base_uri": "https://localhost:8080/",
     "height": 69
    },
    "colab_type": "code",
    "id": "JjGnDluWL9gF",
    "outputId": "81421905-17ea-4c5a-bcc0-176de19fd9bd",
    "tags": []
   },
   "outputs": [],
   "source": [
    "animals = [\"Katze\", \"Hund\", \"Affe\"]\n",
    "for idx, animal in enumerate(animals):\n",
    "    print(\"#{}: {}\".format(idx + 1, animal))"
   ]
  },
  {
   "cell_type": "markdown",
   "metadata": {
    "colab_type": "text",
    "id": "arrLCcMyL9gK"
   },
   "source": [
    "#### List Comprehensions (Listen Abstraktionen)"
   ]
  },
  {
   "cell_type": "markdown",
   "metadata": {
    "colab_type": "text",
    "id": "5Qn2jU_pL9gL"
   },
   "source": [
    "Beim Programmieren möchten wir oft einen Datentyp in einen anderen transformieren. Als einfaches Beispiel betrachte den folgenden Code, welcher Quadratzahlen berechnet:"
   ]
  },
  {
   "cell_type": "code",
   "execution_count": null,
   "metadata": {
    "colab": {
     "base_uri": "https://localhost:8080/",
     "height": 34
    },
    "colab_type": "code",
    "id": "IVNEwoMXL9gL",
    "outputId": "d571445b-055d-45f0-f800-24fd76ceec5a",
    "tags": []
   },
   "outputs": [],
   "source": [
    "nums = [0, 1, 2, 3, 4]\n",
    "squares = []\n",
    "for x in nums:\n",
    "    squares.append(x**2)\n",
    "print(squares)"
   ]
  },
  {
   "cell_type": "markdown",
   "metadata": {
    "colab_type": "text",
    "id": "7DmKVUFaL9gQ"
   },
   "source": [
    "Du kannst diesen Code mit einer List Comprehension vereinfachen:"
   ]
  },
  {
   "cell_type": "code",
   "execution_count": null,
   "metadata": {
    "colab": {
     "base_uri": "https://localhost:8080/",
     "height": 34
    },
    "colab_type": "code",
    "id": "kZxsUfV6L9gR",
    "outputId": "4254a7d4-58ba-4f70-a963-20c46b485b72",
    "tags": []
   },
   "outputs": [],
   "source": [
    "nums = [0, 1, 2, 3, 4]\n",
    "squares = [x**2 for x in nums]\n",
    "print(squares)"
   ]
  },
  {
   "cell_type": "markdown",
   "metadata": {
    "colab_type": "text",
    "id": "-D8ARK7tL9gV"
   },
   "source": [
    "_List Comprehensions_ können auch Bedingungen enthalten:"
   ]
  },
  {
   "cell_type": "code",
   "execution_count": null,
   "metadata": {
    "colab": {
     "base_uri": "https://localhost:8080/",
     "height": 34
    },
    "colab_type": "code",
    "id": "yUtgOyyYL9gV",
    "outputId": "1ae7ab58-8119-44dc-8e57-fda09197d026",
    "tags": []
   },
   "outputs": [],
   "source": [
    "nums = [0, 1, 2, 3, 4]\n",
    "even_squares = [x**2 for x in nums if x % 2 == 0]\n",
    "print(even_squares)"
   ]
  },
  {
   "cell_type": "markdown",
   "metadata": {
    "colab_type": "text",
    "id": "H8xsUEFpL9gZ"
   },
   "source": [
    "#### Wörterbücher"
   ]
  },
  {
   "cell_type": "markdown",
   "metadata": {
    "colab_type": "text",
    "id": "kkjAGMAJL9ga"
   },
   "source": [
    "Ein Wörterbuch (_dictionary_) speichert (Schlüssel, Wert)-Paare (_key_, _value_), ähnlich wie eine `Map` in Java oder ein Objekt in JavaScript. Du kannst es wie folgt verwenden:"
   ]
  },
  {
   "cell_type": "code",
   "execution_count": null,
   "metadata": {
    "colab": {
     "base_uri": "https://localhost:8080/",
     "height": 52
    },
    "colab_type": "code",
    "id": "XBYI1MrYL9gb",
    "outputId": "8e24c1da-0fc0-4b4c-a3e6-6f758a53b7da",
    "tags": []
   },
   "outputs": [],
   "source": [
    "d = {\n",
    "    \"Katze\": \"süß\",\n",
    "    \"Hund\": \"haarig\",\n",
    "}  # Erstelle ein neues Wörterbuch mit einigen Daten\n",
    "print(d[\"Katze\"])  # Holen eines Eintrags aus einem Wörterbuch; gibt \"süß\" aus\n",
    "print(\n",
    "    \"Katze\" in d\n",
    ")  # Überprüfen, ob ein Wörterbuch einen bestimmten Schlüssel hat; gibt \"True\" aus"
   ]
  },
  {
   "cell_type": "code",
   "execution_count": null,
   "metadata": {
    "colab": {
     "base_uri": "https://localhost:8080/",
     "height": 34
    },
    "colab_type": "code",
    "id": "pS7e-G-HL9gf",
    "outputId": "feb4bf18-c0a3-42a2-eaf5-3fc390f36dcf",
    "tags": []
   },
   "outputs": [],
   "source": [
    "d[\"Fisch\"] = \"nass\"  # Eintrag in einem Wörterbuch setzen\n",
    "print(d[\"Fisch\"])  # Gibt \"nass\" aus"
   ]
  },
  {
   "cell_type": "code",
   "execution_count": null,
   "metadata": {
    "colab": {
     "base_uri": "https://localhost:8080/",
     "height": 165
    },
    "colab_type": "code",
    "id": "tFY065ItL9gi",
    "outputId": "7e42a5f0-1856-4608-a927-0930ab37a66c",
    "tags": []
   },
   "outputs": [],
   "source": [
    "print(d[\"Affe\"])  # KeyError: 'Affe' ist kein Schlüssel in d"
   ]
  },
  {
   "cell_type": "code",
   "execution_count": null,
   "metadata": {
    "colab": {
     "base_uri": "https://localhost:8080/",
     "height": 52
    },
    "colab_type": "code",
    "id": "8TjbEWqML9gl",
    "outputId": "ef14d05e-401d-4d23-ed1a-0fe6b4c77d6f",
    "tags": []
   },
   "outputs": [],
   "source": [
    "print(\n",
    "    d.get(\"Affe\", \"N/A\")\n",
    ")  # Ein Element mit einem Standardwert abrufen; gibt \"N/A\" aus\n",
    "print(\n",
    "    d.get(\"Fisch\", \"N/A\")\n",
    ")  # Ein Element mit einem Standardwert abrufen; gibt \"nass\" aus"
   ]
  },
  {
   "cell_type": "code",
   "execution_count": null,
   "metadata": {
    "colab": {
     "base_uri": "https://localhost:8080/",
     "height": 34
    },
    "colab_type": "code",
    "id": "0EItdNBJL9go",
    "outputId": "652a950f-b0c2-4623-98bd-0191b300cd57",
    "tags": []
   },
   "outputs": [],
   "source": [
    "del d[\"Fisch\"]  # Ein Element aus einem Wörterbuch entfernen\n",
    "print(d.get(\"Fisch\", \"N/A\"))  # \"Fisch\" ist kein Schlüssel mehr; gibt \"N/A\" aus"
   ]
  },
  {
   "cell_type": "markdown",
   "metadata": {
    "colab_type": "text",
    "id": "wqm4dRZNL9gr"
   },
   "source": [
    "Du kannst alles, was du über Wörterbücher wissen musst, in der [Dokumentation](https://docs.python.org/3.10/library/stdtypes.html#dict) finden."
   ]
  },
  {
   "cell_type": "markdown",
   "metadata": {
    "colab_type": "text",
    "id": "IxwEqHlGL9gr"
   },
   "source": [
    "Es ist einfach, über die Schlüssel in einem Wörterbuch zu iterieren:"
   ]
  },
  {
   "cell_type": "code",
   "execution_count": null,
   "metadata": {
    "colab": {
     "base_uri": "https://localhost:8080/",
     "height": 69
    },
    "colab_type": "code",
    "id": "rYfz7ZKNL9gs",
    "outputId": "155bdb17-3179-4292-c832-8166e955e942",
    "tags": []
   },
   "outputs": [],
   "source": [
    "d = {\"Person\": 2, \"Katze\": 4, \"Spinne\": 8}\n",
    "for animal, legs in d.items():\n",
    "    print(\"Eine {} hat {} Beine\".format(animal, legs))"
   ]
  },
  {
   "cell_type": "markdown",
   "metadata": {
    "colab_type": "text",
    "id": "17sxiOpzL9gz"
   },
   "source": [
    "Dictionary comprehensions: These are similar to list comprehensions, but allow you to easily construct dictionaries. For example:\n",
    "\n",
    "_Dictionary comprehensions_: Diese sind ähnlich wie _list comprehensions_, ermöglichen es aber eine einfache Konstruktion von Wörterbüchern. Zum Beispiel:"
   ]
  },
  {
   "cell_type": "code",
   "execution_count": null,
   "metadata": {
    "colab": {
     "base_uri": "https://localhost:8080/",
     "height": 34
    },
    "colab_type": "code",
    "id": "8PB07imLL9gz",
    "outputId": "e9ddf886-39ed-4f35-dd80-64a19d2eec9b",
    "tags": []
   },
   "outputs": [],
   "source": [
    "nums = [0, 1, 2, 3, 4]\n",
    "even_num_to_square = {x: x**2 for x in nums if x % 2 == 0}\n",
    "print(even_num_to_square)"
   ]
  },
  {
   "cell_type": "markdown",
   "metadata": {
    "colab_type": "text",
    "id": "V9MHfUdvL9g2"
   },
   "source": [
    "#### Sets (Mengen)"
   ]
  },
  {
   "cell_type": "markdown",
   "metadata": {
    "colab_type": "text",
    "id": "Rpm4UtNpL9g2"
   },
   "source": [
    "Ein _set_ ist eine ungeordnete Sammlung von unterschiedlichen Elementen. Als einfaches Beispiel betrachte:"
   ]
  },
  {
   "cell_type": "code",
   "execution_count": null,
   "metadata": {
    "colab": {
     "base_uri": "https://localhost:8080/",
     "height": 52
    },
    "colab_type": "code",
    "id": "MmyaniLsL9g2",
    "outputId": "8f152d48-0a07-432a-cf98-8de4fd57ddbb",
    "tags": []
   },
   "outputs": [],
   "source": [
    "animals = {\"Katze\", \"Hund\"}\n",
    "print(\n",
    "    \"Katze\" in animals\n",
    ")  # Überprüfe, ob ein Element in einer Menge enthalten ist; gibt \"True\" aus\n",
    "print(\"Fisch\" in animals)  # gibt \"False\" aus"
   ]
  },
  {
   "cell_type": "code",
   "execution_count": null,
   "metadata": {
    "colab": {
     "base_uri": "https://localhost:8080/",
     "height": 52
    },
    "colab_type": "code",
    "id": "ElJEyK86L9g6",
    "outputId": "b9d7dab9-5a98-41cd-efbc-786d0c4377f7",
    "tags": []
   },
   "outputs": [],
   "source": [
    "animals.add(\"Fisch\")  # Füge ein Element zu einer Menge hinzu\n",
    "print(\"Fisch\" in animals)\n",
    "print(len(animals))  # Anzahl der Elemente in einer Menge"
   ]
  },
  {
   "cell_type": "code",
   "execution_count": null,
   "metadata": {
    "colab": {
     "base_uri": "https://localhost:8080/",
     "height": 52
    },
    "colab_type": "code",
    "id": "5uGmrxdPL9g9",
    "outputId": "e644d24c-26c6-4b43-ab15-8aa81fe884d4",
    "tags": []
   },
   "outputs": [],
   "source": [
    "animals.add(\n",
    "    \"Katze\"\n",
    ")  # Das Hinzufügen eines Elements, das bereits in der Menge enthalten ist, bewirkt nichts\n",
    "print(len(animals))\n",
    "animals.remove(\"Katze\")  # Entferne ein Element aus einer Menge\n",
    "print(len(animals))"
   ]
  },
  {
   "cell_type": "markdown",
   "metadata": {
    "colab_type": "text",
    "id": "zk2DbvLKL9g_"
   },
   "source": [
    "_Loops_: Das Durchlaufen einer Menge hat dieselbe Syntax wie das Durchlaufen einer Liste. Da Mengen jedoch ungeordnet sind, können keine Annahmen darüber getroffen werden, in welcher Reihenfolge die Elemente der Menge besucht werden:"
   ]
  },
  {
   "cell_type": "code",
   "execution_count": null,
   "metadata": {
    "colab": {
     "base_uri": "https://localhost:8080/",
     "height": 69
    },
    "colab_type": "code",
    "id": "K47KYNGyL9hA",
    "outputId": "4477f897-4355-4816-b39b-b93ffbac4bf0",
    "tags": []
   },
   "outputs": [],
   "source": [
    "animals = {\"Katze\", \"Hund\", \"Fisch\"}\n",
    "for idx, animal in enumerate(animals):\n",
    "    print(\"#{}: {}\".format(idx + 1, animal))"
   ]
  },
  {
   "cell_type": "markdown",
   "metadata": {
    "colab_type": "text",
    "id": "puq4S8buL9hC"
   },
   "source": [
    "_Set comprehensions_ (Mengenabstraktionen): Wie bei Listen und Wörterbüchern können wir leicht Mengen mithilfe von _set comprehensions_ erstellen:"
   ]
  },
  {
   "cell_type": "code",
   "execution_count": null,
   "metadata": {
    "colab": {
     "base_uri": "https://localhost:8080/",
     "height": 34
    },
    "colab_type": "code",
    "id": "iw7k90k3L9hC",
    "outputId": "72d6b824-6d31-47b2-f929-4cf434590ee5",
    "tags": []
   },
   "outputs": [],
   "source": [
    "from math import sqrt\n",
    "\n",
    "print({int(sqrt(x)) for x in range(30)})"
   ]
  },
  {
   "cell_type": "markdown",
   "metadata": {
    "colab_type": "text",
    "id": "qPsHSKB1L9hF"
   },
   "source": [
    "#### Tupel"
   ]
  },
  {
   "cell_type": "markdown",
   "metadata": {
    "colab_type": "text",
    "id": "kucc0LKVL9hG"
   },
   "source": [
    "Ein Tupel ist eine (unveränderliche) geordnete Liste von Werten. Ein Tupel ähnelt in vielerlei Hinsicht einer Liste. Einer der wichtigsten Unterschiede besteht darin, dass Tupel als Schlüssel in Wörterbüchern und als Elemente von Mengen verwendet werden können, während das mit Listen nicht möglich ist. Hier ist ein triviales Beispiel:"
   ]
  },
  {
   "cell_type": "code",
   "execution_count": null,
   "metadata": {
    "colab": {
     "base_uri": "https://localhost:8080/",
     "height": 69
    },
    "colab_type": "code",
    "id": "9wHUyTKxL9hH",
    "outputId": "cdc5f620-04fe-4b0b-df7a-55b061d23d88",
    "tags": []
   },
   "outputs": [],
   "source": [
    "d = {(x, x + 1): x for x in range(10)}  # Erstelle ein Wörterbuch mit Tupelschlüsseln\n",
    "t = (5, 6)  # Erstelle ein Tupel\n",
    "print(type(t))\n",
    "print(d[t])\n",
    "print(d[(1, 2)])"
   ]
  },
  {
   "cell_type": "code",
   "execution_count": null,
   "metadata": {
    "colab": {
     "base_uri": "https://localhost:8080/",
     "height": 165
    },
    "colab_type": "code",
    "id": "HoO8zYKzL9hJ",
    "outputId": "28862bfc-0298-40d7-f8c4-168e109d2d93",
    "tags": []
   },
   "outputs": [],
   "source": [
    "t[0] = 1"
   ]
  },
  {
   "cell_type": "markdown",
   "metadata": {
    "colab_type": "text",
    "id": "AXA4jrEOL9hM"
   },
   "source": [
    "### Funktionen"
   ]
  },
  {
   "cell_type": "markdown",
   "metadata": {
    "colab_type": "text",
    "id": "WaRms-QfL9hN"
   },
   "source": [
    "Python-Funktionen werden mit dem `def`-Schlüsselwort definiert. Zum Beispiel:"
   ]
  },
  {
   "cell_type": "code",
   "execution_count": null,
   "metadata": {
    "colab": {
     "base_uri": "https://localhost:8080/",
     "height": 69
    },
    "colab_type": "code",
    "id": "kiMDUr58L9hN",
    "outputId": "9f53bf9a-7b2a-4c51-9def-398e4677cd6c",
    "tags": []
   },
   "outputs": [],
   "source": [
    "def sign(x):\n",
    "    if x > 0:\n",
    "        return \"positiv\"\n",
    "    elif x < 0:\n",
    "        return \"negativ\"\n",
    "    else:\n",
    "        return \"Null\"\n",
    "\n",
    "\n",
    "for x in [-1, 0, 1]:\n",
    "    print(sign(x))"
   ]
  },
  {
   "cell_type": "markdown",
   "metadata": {
    "colab_type": "text",
    "id": "U-QJFt8TL9hR"
   },
   "source": [
    "Funktionen mit optinalen Parametern definiert man wie folgend gezeigt:"
   ]
  },
  {
   "cell_type": "code",
   "execution_count": null,
   "metadata": {
    "colab": {
     "base_uri": "https://localhost:8080/",
     "height": 52
    },
    "colab_type": "code",
    "id": "PfsZ3DazL9hR",
    "outputId": "6e6af832-67d8-4d8c-949b-335927684ae3",
    "tags": []
   },
   "outputs": [],
   "source": [
    "def hello(name, loud=False):\n",
    "    if loud:\n",
    "        print(\"HALLO, {}\".format(name.upper()))\n",
    "    else:\n",
    "        print(\"Hallo, {}!\".format(name))\n",
    "\n",
    "\n",
    "hello(\"Bob\")\n",
    "hello(\"Fred\", loud=True)"
   ]
  },
  {
   "cell_type": "markdown",
   "metadata": {
    "colab_type": "text",
    "id": "ObA9PRtQL9hT"
   },
   "source": [
    "### Klassen"
   ]
  },
  {
   "cell_type": "markdown",
   "metadata": {
    "colab_type": "text",
    "id": "hAzL_lTkL9hU"
   },
   "source": [
    "Die Syntax zum Definieren von Klassen in Python ist sehr direkt:"
   ]
  },
  {
   "cell_type": "code",
   "execution_count": null,
   "metadata": {
    "colab": {
     "base_uri": "https://localhost:8080/",
     "height": 52
    },
    "colab_type": "code",
    "id": "RWdbaGigL9hU",
    "outputId": "4f6615c5-75a7-4ce4-8ea1-1e7f5e4e9fc3",
    "tags": []
   },
   "outputs": [],
   "source": [
    "class Greeter:\n",
    "\n",
    "    # Constructor\n",
    "    def __init__(self, name):\n",
    "        self.name = name  # Create an instance variable\n",
    "\n",
    "    # Instance method\n",
    "    def greet(self, loud=False):\n",
    "        if loud:\n",
    "            print(\"HALLO, {}\".format(self.name.upper()))\n",
    "        else:\n",
    "            print(\"Hallo, {}!\".format(self.name))\n",
    "\n",
    "\n",
    "g = Greeter(\"Fred\")  # Construct an instance of the Greeter class\n",
    "g.greet()  # Call an instance method; prints \"Hello, Fred\"\n",
    "g.greet(loud=True)  # Call an instance method; prints \"HELLO, FRED!\""
   ]
  },
  {
   "cell_type": "markdown",
   "metadata": {
    "colab_type": "text",
    "id": "3cfrOV4dL9hW"
   },
   "source": [
    "## Numpy"
   ]
  },
  {
   "cell_type": "markdown",
   "metadata": {
    "colab_type": "text",
    "id": "fY12nHhyL9hX"
   },
   "source": [
    "NumPy ist die Kernbibliothek für wissenschaftliches Rechnen in Python. Sie stellt ein leistungsstarkes multidimensionales Array-Objekt sowie Werkzeuge zum Arbeiten mit diesen Arrays bereit. Da die numpy Bibliotheken in C erstellt wurden sind diese **um ein vielfaches effizienter** als die internen mathematischen Operatoren von python. Dies stellt sich für uns vor allem deswegen als Vorteil heraus, da viele Robotersysteme auch auf leistungsschwächeren integrierten Systemen performant funktionieren müssen."
   ]
  },
  {
   "cell_type": "markdown",
   "metadata": {
    "colab_type": "text",
    "id": "lZMyAdqhL9hY"
   },
   "source": [
    "Um NumPy zu verwenden, müssen wir zunächst das `numpy`-Paket importieren:"
   ]
  },
  {
   "cell_type": "code",
   "execution_count": null,
   "metadata": {
    "colab": {},
    "colab_type": "code",
    "id": "58QdX8BLL9hZ",
    "tags": []
   },
   "outputs": [],
   "source": [
    "import numpy as np"
   ]
  },
  {
   "cell_type": "markdown",
   "metadata": {
    "colab_type": "text",
    "id": "DDx6v1EdL9hb"
   },
   "source": [
    "### Arrays"
   ]
  },
  {
   "cell_type": "markdown",
   "metadata": {
    "colab_type": "text",
    "id": "f-Zv3f7LL9hc"
   },
   "source": [
    "Ein NumPy-Array ist ein Feld von Werten, die im Gegensatz zu nativem python alle denselben Typ haben und von einem Tupel nicht-negativer Ganzzahlen indiziert werden. Die Anzahl der Dimensionen entspricht dem Rang des Arrays. Die `shape` (Form) eines Arrays ist ein Tupel von ganzen Zahlen, das die Größe der Dimensionen angibt."
   ]
  },
  {
   "cell_type": "markdown",
   "metadata": {
    "colab_type": "text",
    "id": "_eMTRnZRL9hc"
   },
   "source": [
    "Wir können NumPy-Arrays aus verschachtelten Python-Listen initialisieren und auf Elemente mit eckigen Klammern zugreifen:"
   ]
  },
  {
   "cell_type": "code",
   "execution_count": null,
   "metadata": {
    "colab": {
     "base_uri": "https://localhost:8080/",
     "height": 52
    },
    "colab_type": "code",
    "id": "-l3JrGxCL9hc",
    "outputId": "8d9dad18-c734-4a8a-ca8c-44060a40fb79",
    "tags": []
   },
   "outputs": [],
   "source": [
    "a = np.array([1, 2, 3])  # Erstelle ein Array vom Rang 1\n",
    "print(type(a), a.shape, a[0], a[1], a[2])\n",
    "a[0] = 5  # Ändere ein Element des Arrays\n",
    "print(a)"
   ]
  },
  {
   "cell_type": "code",
   "execution_count": null,
   "metadata": {
    "colab": {
     "base_uri": "https://localhost:8080/",
     "height": 52
    },
    "colab_type": "code",
    "id": "ma6mk-kdL9hh",
    "outputId": "0b54ff2f-e7f1-4b30-c653-9bf81cb8fbb0",
    "tags": []
   },
   "outputs": [],
   "source": [
    "b = np.array([[1, 2, 3], [4, 5, 6]])  # Erstelle ein Array vom Rang 2\n",
    "print(b)"
   ]
  },
  {
   "cell_type": "code",
   "execution_count": null,
   "metadata": {
    "colab": {
     "base_uri": "https://localhost:8080/",
     "height": 52
    },
    "colab_type": "code",
    "id": "ymfSHAwtL9hj",
    "outputId": "5bd292d8-c751-43b9-d480-f357dde52342",
    "tags": []
   },
   "outputs": [],
   "source": [
    "print(b.shape)\n",
    "print(b[0, 0], b[0, 1], b[1, 0])"
   ]
  },
  {
   "cell_type": "markdown",
   "metadata": {
    "colab_type": "text",
    "id": "F2qwdyvuL9hn"
   },
   "source": [
    "NumPy bietet auch viele Funktionen zum Erstellen von Arrays:"
   ]
  },
  {
   "cell_type": "code",
   "execution_count": null,
   "metadata": {
    "colab": {
     "base_uri": "https://localhost:8080/",
     "height": 52
    },
    "colab_type": "code",
    "id": "mVTN_EBqL9hn",
    "outputId": "d267c65f-ba90-4043-cedb-f468ab1bcc5d",
    "tags": []
   },
   "outputs": [],
   "source": [
    "a = np.zeros((2, 2))  # Erstelle ein Array aus Nullen\n",
    "print(a)"
   ]
  },
  {
   "cell_type": "code",
   "execution_count": null,
   "metadata": {
    "colab": {
     "base_uri": "https://localhost:8080/",
     "height": 34
    },
    "colab_type": "code",
    "id": "skiKlNmlL9h5",
    "outputId": "7d1ec1b5-a1fe-4f44-cbe3-cdeacad425f1",
    "tags": []
   },
   "outputs": [],
   "source": [
    "b = np.ones((1, 2))  # Erstelle ein Array aus Einsen\n",
    "print(b)"
   ]
  },
  {
   "cell_type": "code",
   "execution_count": null,
   "metadata": {
    "colab": {
     "base_uri": "https://localhost:8080/",
     "height": 52
    },
    "colab_type": "code",
    "id": "HtFsr03bL9h7",
    "outputId": "2688b157-2fad-4fc6-f20b-8633207f0326",
    "tags": []
   },
   "outputs": [],
   "source": [
    "c = np.full((2, 2), 7)  # Erstelle ein konstantes Array\n",
    "print(c)"
   ]
  },
  {
   "cell_type": "code",
   "execution_count": null,
   "metadata": {
    "colab": {
     "base_uri": "https://localhost:8080/",
     "height": 52
    },
    "colab_type": "code",
    "id": "-QcALHvkL9h9",
    "outputId": "5035d6fe-cb7e-4222-c972-55fe23c9d4c0",
    "tags": []
   },
   "outputs": [],
   "source": [
    "d = np.eye(2)  # Erstelle eine 2x2 Identitäts-Matrix\n",
    "print(d)"
   ]
  },
  {
   "cell_type": "code",
   "execution_count": null,
   "metadata": {
    "colab": {
     "base_uri": "https://localhost:8080/",
     "height": 52
    },
    "colab_type": "code",
    "id": "RCpaYg9qL9iA",
    "outputId": "25f0b387-39cf-42f3-8701-de860cc75e2e",
    "tags": []
   },
   "outputs": [],
   "source": [
    "e = np.random.random(\n",
    "    (2, 2)\n",
    ")  # Erstelle ein Array, welches mit zufälligen Werten gefüllt ist\n",
    "print(e)"
   ]
  },
  {
   "cell_type": "markdown",
   "metadata": {
    "colab_type": "text",
    "id": "jI5qcSDfL9iC"
   },
   "source": [
    "### Array Indexierung"
   ]
  },
  {
   "cell_type": "markdown",
   "metadata": {
    "colab_type": "text",
    "id": "M-E4MUeVL9iC"
   },
   "source": [
    "NumPy bietet verschiedene Möglichkeiten, auf Arrays zuzugreifen."
   ]
  },
  {
   "cell_type": "markdown",
   "metadata": {
    "colab_type": "text",
    "id": "QYv4JyIEL9iD"
   },
   "source": [
    "_Slicing_: Ähnlich wie Python-Listen können auch Numpy-Arrays gesliced werden. Da Arrays mehrdimensional sein können, musst du für jede Dimension des Arrays einen Bereich angeben:"
   ]
  },
  {
   "cell_type": "code",
   "execution_count": null,
   "metadata": {
    "colab": {
     "base_uri": "https://localhost:8080/",
     "height": 52
    },
    "colab_type": "code",
    "id": "wLWA0udwL9iD",
    "outputId": "99f08618-c513-4982-8982-b146fc72dab3",
    "tags": []
   },
   "outputs": [],
   "source": [
    "import numpy as np\n",
    "\n",
    "# Erstelle das folgende Array mit Rang 2 mit der Form (3, 4)\n",
    "# [[ 1  2  3  4]\n",
    "#  [ 5  6  7  8]\n",
    "#  [ 9 10 11 12]]\n",
    "a = np.array([[1, 2, 3, 4], [5, 6, 7, 8], [9, 10, 11, 12]])\n",
    "\n",
    "# Verwende Slicing, um das Teilarray bestehend aus den ersten 2 Zeilen\n",
    "# und den Spalten 1 und 2 zu extrahieren; b ist das folgende Array mit der Form (2, 2):\n",
    "# [[2 3]\n",
    "#  [6 7]]\n",
    "b = a[:2, 1:3]\n",
    "print(b)"
   ]
  },
  {
   "cell_type": "markdown",
   "metadata": {
    "colab_type": "text",
    "id": "KahhtZKYL9iF"
   },
   "source": [
    "Ein Ausschnitt (_slice_) eines Arrays ist eine Ansicht der Original-Daten. Das heißt, dass jede Modifikation des Ausschnitts auch das ursprüngliche Array ändern wird."
   ]
  },
  {
   "cell_type": "code",
   "execution_count": null,
   "metadata": {
    "colab": {
     "base_uri": "https://localhost:8080/",
     "height": 52
    },
    "colab_type": "code",
    "id": "1kmtaFHuL9iG",
    "outputId": "ee3ab60c-4064-4a9e-b04c-453d3955f1d1",
    "tags": []
   },
   "outputs": [],
   "source": [
    "print(a[0, 1])\n",
    "b[0, 0] = 77  # b[0, 0] sind die gleichen Daten wie a[0, 1]\n",
    "print(a[0, 1])"
   ]
  },
  {
   "cell_type": "markdown",
   "metadata": {
    "colab_type": "text",
    "id": "_Zcf3zi-L9iI"
   },
   "source": [
    "Du kannst auch Ganzzahl-Indexierung mit Slice-Indexierung mischen. Dies führt jedoch zu einem Array mit niedrigerem Rang als das Originalarray:"
   ]
  },
  {
   "cell_type": "code",
   "execution_count": null,
   "metadata": {
    "colab": {
     "base_uri": "https://localhost:8080/",
     "height": 69
    },
    "colab_type": "code",
    "id": "G6lfbPuxL9iJ",
    "outputId": "a225fe9d-2a29-4e14-a243-2b7d583bd4bc",
    "tags": []
   },
   "outputs": [],
   "source": [
    "# Erstelle das folgende Array vom Rang 2 mit der Form (3, 4)\n",
    "a = np.array([[1, 2, 3, 4], [5, 6, 7, 8], [9, 10, 11, 12]])\n",
    "print(a)"
   ]
  },
  {
   "cell_type": "markdown",
   "metadata": {
    "colab_type": "text",
    "id": "NCye3NXhL9iL"
   },
   "source": [
    "Somit ergeben sich zwei Möglichkeiten, auf die Daten in der mittleren Zeile des Arrays zuzugreifen.\n",
    "Einerseits die Kombination von Ganzzahl-Indexierung mit Slices - diese ergibt ein Array mit niedrigerem Rang,\n",
    "andererseits die ausschließliche Verwendung von Slices - was dann ein Array mit demselben Rang wie das ursprüngliche Array ergibt:"
   ]
  },
  {
   "cell_type": "code",
   "execution_count": null,
   "metadata": {
    "colab": {
     "base_uri": "https://localhost:8080/",
     "height": 69
    },
    "colab_type": "code",
    "id": "EOiEMsmNL9iL",
    "outputId": "ab2ebe48-9002-45a8-9462-fd490b467f40",
    "tags": []
   },
   "outputs": [],
   "source": [
    "row_r1 = a[1, :]  # Rang 1 Ansicht der zweiten Reihe von a\n",
    "row_r2 = a[1:2, :]  # Rang 2 Ansicht der zweiten Reihe von a\n",
    "row_r3 = a[[1], :]  # Rang 2 Ansicht der zweiten Reihe von a\n",
    "print(row_r1, row_r1.shape)\n",
    "print(row_r2, row_r2.shape)\n",
    "print(row_r3, row_r3.shape)"
   ]
  },
  {
   "cell_type": "code",
   "execution_count": null,
   "metadata": {
    "colab": {
     "base_uri": "https://localhost:8080/",
     "height": 104
    },
    "colab_type": "code",
    "id": "JXu73pfDL9iN",
    "outputId": "6c589b85-e9b0-4c13-a39d-4cd9fb2f41ac",
    "tags": []
   },
   "outputs": [],
   "source": [
    "# Wir können beim Zugriff auf die Spalten die gleiche Unterscheidung betrachten:\n",
    "col_r1 = a[:, 1]\n",
    "col_r2 = a[:, 1:2]\n",
    "print(col_r1, col_r1.shape)\n",
    "print()\n",
    "print(col_r2, col_r2.shape)"
   ]
  },
  {
   "cell_type": "markdown",
   "metadata": {
    "colab_type": "text",
    "id": "VP3916bOL9iP"
   },
   "source": [
    "**Ganzzahl-Array-Indexierung**: Wenn du in NumPy-Arrays mit Slicing indizierst, wird die resultierende Array-Ansicht immer ein Teilarray des ursprünglichen Arrays sein. Im Gegensatz dazu ermöglicht dir die Ganzzahl-Array-Indexierung, beliebige Arrays unter Verwendung der Daten aus einem anderen Array zu konstruieren. Hier ist ein Beispiel:"
   ]
  },
  {
   "cell_type": "code",
   "execution_count": null,
   "metadata": {
    "colab": {
     "base_uri": "https://localhost:8080/",
     "height": 52
    },
    "colab_type": "code",
    "id": "TBnWonIDL9iP",
    "outputId": "c29fa2cd-234e-4765-c70a-6889acc63573",
    "tags": []
   },
   "outputs": [],
   "source": [
    "a = np.array([[1, 2], [3, 4], [5, 6]])\n",
    "\n",
    "# Ein Beispiel der Ganzzahl-Array-Indexierung.\n",
    "# Das zurückgegebene Array hat dann die Form (3,)\n",
    "print(a[[0, 1, 2], [0, 1, 0]])\n",
    "\n",
    "# Das folgende Beispiel der Ganzzahl-Array-Indexierung ist also äquivalent zur obigen:\n",
    "print(np.array([a[0, 0], a[1, 1], a[2, 0]]))"
   ]
  },
  {
   "cell_type": "code",
   "execution_count": null,
   "metadata": {
    "colab": {
     "base_uri": "https://localhost:8080/",
     "height": 52
    },
    "colab_type": "code",
    "id": "n7vuati-L9iR",
    "outputId": "c3e9ba14-f66e-4202-999e-2e1aed5bd631",
    "tags": []
   },
   "outputs": [],
   "source": [
    "# Bei der Verwendung von Ganzzahl-Array-Indexierung kannst du dasselbe\n",
    "# Element aus dem Quellarray wiederverwenden:\n",
    "print(a[[0, 0], [1, 1]])\n",
    "\n",
    "# Äquivalent zum vorherigen Beispiel für Ganzzahl-Array-Indexierung\n",
    "print(np.array([a[0, 1], a[0, 1]]))"
   ]
  },
  {
   "cell_type": "markdown",
   "metadata": {
    "colab_type": "text",
    "id": "kaipSLafL9iU"
   },
   "source": [
    "Ein nützlicher Trick bei der Ganzzahl-Array-Indexierung besteht darin, ein Element aus jeder Zeile einer Matrix auszuwählen oder zu ändern:"
   ]
  },
  {
   "cell_type": "code",
   "execution_count": null,
   "metadata": {
    "colab": {
     "base_uri": "https://localhost:8080/",
     "height": 86
    },
    "colab_type": "code",
    "id": "ehqsV7TXL9iU",
    "outputId": "de509c40-4ee4-4b7c-e75d-1a936a3350e7",
    "tags": []
   },
   "outputs": [],
   "source": [
    "# Erstellen wir dazu ein neues Array aus dem wir Elemente auswählen\n",
    "a = np.array([[1, 2, 3], [4, 5, 6], [7, 8, 9], [10, 11, 12]])\n",
    "print(a)"
   ]
  },
  {
   "cell_type": "code",
   "execution_count": null,
   "metadata": {
    "colab": {
     "base_uri": "https://localhost:8080/",
     "height": 34
    },
    "colab_type": "code",
    "id": "pAPOoqy5L9iV",
    "outputId": "f812e29b-9218-4767-d3a8-e9854e754e68",
    "tags": []
   },
   "outputs": [],
   "source": [
    "# Erstelle ein Array an Indizes\n",
    "b = np.array([0, 2, 0, 1])\n",
    "\n",
    "# Wähle ein Element aus jeder Zeile von a unter Verwendung der Indizes in b aus\n",
    "print(a[np.arange(4), b])  # Gibt \"[ 1  6  7 11]\" aus"
   ]
  },
  {
   "cell_type": "code",
   "execution_count": null,
   "metadata": {
    "colab": {
     "base_uri": "https://localhost:8080/",
     "height": 86
    },
    "colab_type": "code",
    "id": "6v1PdI1DL9ib",
    "outputId": "89f50f82-de1b-4417-e55c-edbc0ee07584",
    "tags": []
   },
   "outputs": [],
   "source": [
    "# Ändere ein Element aus jeder Zeile von a unter Verwendung der Indizes in b\n",
    "a[np.arange(4), b] += 10\n",
    "print(a)"
   ]
  },
  {
   "cell_type": "markdown",
   "metadata": {
    "colab_type": "text",
    "id": "kaE8dBGgL9id"
   },
   "source": [
    "Boolesche Array-Indexierung: Mit der booleschen Array-Indexierung kannst du beliebige Elemente eines Arrays auswählen. Häufig wird diese Art der Indexierung verwendet, um die Elemente eines Arrays auszuwählen, die eine bestimmte Bedingung erfüllen. Hier ist ein Beispiel:"
   ]
  },
  {
   "cell_type": "code",
   "execution_count": null,
   "metadata": {
    "colab": {
     "base_uri": "https://localhost:8080/",
     "height": 69
    },
    "colab_type": "code",
    "id": "32PusjtKL9id",
    "outputId": "8782e8ec-b78d-44d7-8141-23e39750b854",
    "tags": []
   },
   "outputs": [],
   "source": [
    "import numpy as np\n",
    "\n",
    "a = np.array([[1, 2], [3, 4], [5, 6]])\n",
    "\n",
    "bool_idx = a > 2  # Finde die Elemente von a, die größer als 2 sind;\n",
    "# dies gibt ein numpy-Array aus Booleans mit derselben\n",
    "# Form wie a zurück, wobei jeder Platz von bool_idx angibt,\n",
    "# ob das entsprechende Element von a > 2 ist.\n",
    "\n",
    "print(bool_idx)"
   ]
  },
  {
   "cell_type": "code",
   "execution_count": null,
   "metadata": {
    "colab": {
     "base_uri": "https://localhost:8080/",
     "height": 52
    },
    "colab_type": "code",
    "id": "cb2IRMXaL9if",
    "outputId": "5983f208-3738-472d-d6ab-11fe85b36c95",
    "tags": []
   },
   "outputs": [],
   "source": [
    "# Wir verwenden die boolesche Array-Indexierung, um ein Array vom Rang 1 zu konstruieren,\n",
    "# das aus den Elementen von a besteht, die den True-Werten von bool_idx entsprechen\n",
    "print(a[bool_idx])\n",
    "\n",
    "# Du kannst auch alles zusammen direkt in einer einzigen kompakten Anweisung tun:\n",
    "print(a[a > 2])"
   ]
  },
  {
   "cell_type": "markdown",
   "metadata": {
    "colab_type": "text",
    "id": "CdofMonAL9ih"
   },
   "source": [
    "Um nicht zu sehr auszuschweifen, werden hier viele Details zur Indexierung von NumPy-Arrays ausgelassen. Wenn du mehr erfahren möchtest, kannst du auch hier die [Dokumentation](https://numpy.org/doc/stable/reference/generated/numpy.array.html) lesen."
   ]
  },
  {
   "cell_type": "markdown",
   "metadata": {
    "colab_type": "text",
    "id": "jTctwqdQL9ih"
   },
   "source": [
    "### Datentypen"
   ]
  },
  {
   "cell_type": "markdown",
   "metadata": {
    "colab_type": "text",
    "id": "kSZQ1WkIL9ih"
   },
   "source": [
    "Jedes NumPy-Array ist ein Raster von Elementen desselben Typs. NumPy bietet eine große Auswahl an numerischen Datentypen, die du zum Konstruieren von Arrays verwenden kannst. NumPy versucht, einen Datentyp zu erraten, wenn du ein Array erstellst - Funktionen, die Arrays konstruieren, enthalten aber normalerweise auch einen optionalen Parameter, um den Datentypen explizit anzugeben. Hier ist ein Beispiel:"
   ]
  },
  {
   "cell_type": "code",
   "execution_count": null,
   "metadata": {
    "colab": {
     "base_uri": "https://localhost:8080/",
     "height": 34
    },
    "colab_type": "code",
    "id": "4za4O0m5L9ih",
    "outputId": "2ea4fb80-a4df-43f9-c162-5665895c13ae",
    "tags": []
   },
   "outputs": [],
   "source": [
    "x = np.array([1, 2])  # Lasse NumPy den Datentyp wählen\n",
    "y = np.array([1.0, 2.0])  # Lasse NumPy den Datentyp wählen\n",
    "z = np.array([1, 2], dtype=np.int64)  # Erzwinge einen bestimmten Datentyp\n",
    "\n",
    "print(x.dtype, y.dtype, z.dtype)"
   ]
  },
  {
   "cell_type": "markdown",
   "metadata": {
    "colab_type": "text",
    "id": "RLVIsZQpL9ik"
   },
   "source": [
    "Alles weitere über NumPy Datentypen kannst du in der [Dokumentation](http://docs.scipy.org/doc/numpy/reference/arrays.dtypes.html) lesen."
   ]
  },
  {
   "cell_type": "markdown",
   "metadata": {
    "colab_type": "text",
    "id": "TuB-fdhIL9ik"
   },
   "source": [
    "### Array Mathematik"
   ]
  },
  {
   "cell_type": "markdown",
   "metadata": {
    "colab_type": "text",
    "id": "18e8V8elL9ik"
   },
   "source": [
    "Grundlegende mathematische Funktionen arbeiten elementweise auf Arrays und sind sowohl als Operatorüberladungen als auch als Funktionen im NumPy-Modul verfügbar:"
   ]
  },
  {
   "cell_type": "code",
   "execution_count": null,
   "metadata": {
    "colab": {
     "base_uri": "https://localhost:8080/",
     "height": 86
    },
    "colab_type": "code",
    "id": "gHKvBrSKL9il",
    "outputId": "a8a924b1-9d60-4b68-8fd3-e4657ae3f08b",
    "tags": []
   },
   "outputs": [],
   "source": [
    "x = np.array([[1, 2], [3, 4]], dtype=np.float64)\n",
    "y = np.array([[5, 6], [7, 8]], dtype=np.float64)\n",
    "\n",
    "# Elementweise Summe; beide Varianten erzeugen das Array\n",
    "# [[ 6.  8.]\n",
    "#  [10. 12.]]\n",
    "print(x + y)\n",
    "print(np.add(x, y))"
   ]
  },
  {
   "cell_type": "code",
   "execution_count": null,
   "metadata": {
    "colab": {
     "base_uri": "https://localhost:8080/",
     "height": 86
    },
    "colab_type": "code",
    "id": "1fZtIAMxL9in",
    "outputId": "122f1380-6144-4d6c-9d31-f62d839889a2",
    "tags": []
   },
   "outputs": [],
   "source": [
    "# Elementweise Differenz; beide Varianten erzeugen das Array\n",
    "# [[-4. -4.]\n",
    "#  [-4. -4.]]\n",
    "print(x - y)\n",
    "print(np.subtract(x, y))"
   ]
  },
  {
   "cell_type": "code",
   "execution_count": null,
   "metadata": {
    "colab": {
     "base_uri": "https://localhost:8080/",
     "height": 86
    },
    "colab_type": "code",
    "id": "nil4AScML9io",
    "outputId": "038c8bb2-122b-4e59-c0a8-a091014fe68e",
    "tags": []
   },
   "outputs": [],
   "source": [
    "# Elementweise Produkt; beide Varianten erzeugen das Array\n",
    "# [[ 5. 12.]\n",
    "#  [21. 32.]]\n",
    "print(x * y)\n",
    "print(np.multiply(x, y))"
   ]
  },
  {
   "cell_type": "code",
   "execution_count": null,
   "metadata": {
    "colab": {
     "base_uri": "https://localhost:8080/",
     "height": 86
    },
    "colab_type": "code",
    "id": "0JoA4lH6L9ip",
    "outputId": "12351a74-7871-4bc2-97ce-a508bf4810da",
    "tags": []
   },
   "outputs": [],
   "source": [
    "# Elementweise Division; beide Varianten erzeugen das Array\n",
    "# [[ 0.2         0.33333333]\n",
    "#  [ 0.42857143  0.5       ]]\n",
    "print(x / y)\n",
    "print(np.divide(x, y))"
   ]
  },
  {
   "cell_type": "code",
   "execution_count": null,
   "metadata": {
    "colab": {
     "base_uri": "https://localhost:8080/",
     "height": 52
    },
    "colab_type": "code",
    "id": "g0iZuA6bL9ir",
    "outputId": "29927dda-4167-4aa8-fbda-9008b09e4356",
    "tags": []
   },
   "outputs": [],
   "source": [
    "# Elementweise Quadratwurzel; erzeugt das Array\n",
    "# [[ 1.          1.41421356]\n",
    "#  [ 1.73205081  2.        ]]\n",
    "print(np.sqrt(x))"
   ]
  },
  {
   "cell_type": "markdown",
   "metadata": {
    "colab_type": "text",
    "id": "a5d_uujuL9it"
   },
   "source": [
    "Beachte hierbei, dass `*` eine elementweise Multiplikation und keine Matrixmultiplikation ist. Wir verwenden stattdessen die `dot`-Funktion, um das innere Produkt von Vektoren zu berechnen, einen Vektor mit einer Matrix zu multiplizieren und um Matrizen zu multiplizieren. `dot` ist sowohl als Funktion im NumPy-Modul als auch als Instanzmethode von Array-Objekten verfügbar:"
   ]
  },
  {
   "cell_type": "code",
   "execution_count": null,
   "metadata": {
    "colab": {
     "base_uri": "https://localhost:8080/",
     "height": 52
    },
    "colab_type": "code",
    "id": "I3FnmoSeL9iu",
    "outputId": "46f4575a-2e5e-4347-a34e-0cc5bd280110",
    "tags": []
   },
   "outputs": [],
   "source": [
    "x = np.array([[1, 2], [3, 4]])\n",
    "y = np.array([[5, 6], [7, 8]])\n",
    "\n",
    "v = np.array([9, 10])\n",
    "w = np.array([11, 12])\n",
    "\n",
    "# Inneres Produkt von Vektoren; beides produziert 219\n",
    "print(v.dot(w))\n",
    "print(np.dot(v, w))"
   ]
  },
  {
   "cell_type": "markdown",
   "metadata": {
    "colab_type": "text",
    "id": "vmxPbrHASVeA"
   },
   "source": [
    "Du kannst dafür auch den `@` Operator nutzen, welcher äquivalent zu NumPy's `dot` Operator ist."
   ]
  },
  {
   "cell_type": "code",
   "execution_count": null,
   "metadata": {
    "colab": {
     "base_uri": "https://localhost:8080/",
     "height": 34
    },
    "colab_type": "code",
    "id": "vyrWA-mXSdtt",
    "outputId": "a9aae545-2c93-4649-b220-b097655955f6",
    "tags": []
   },
   "outputs": [],
   "source": [
    "print(v @ w)"
   ]
  },
  {
   "cell_type": "code",
   "execution_count": null,
   "metadata": {
    "colab": {
     "base_uri": "https://localhost:8080/",
     "height": 69
    },
    "colab_type": "code",
    "id": "zvUODeTxL9iw",
    "outputId": "4093fc76-094f-4453-a421-a212b5226968",
    "tags": []
   },
   "outputs": [],
   "source": [
    "# Produkt von Matrix und Vektor; alle Varianten produzieren das Array [29 67] vom Rang 1\n",
    "print(x.dot(v))\n",
    "print(np.dot(x, v))\n",
    "print(x @ v)"
   ]
  },
  {
   "cell_type": "code",
   "execution_count": null,
   "metadata": {
    "colab": {
     "base_uri": "https://localhost:8080/",
     "height": 121
    },
    "colab_type": "code",
    "id": "3V_3NzNEL9iy",
    "outputId": "af2a89f9-af5d-47a6-9ad2-06a84b521b94",
    "tags": []
   },
   "outputs": [],
   "source": [
    "# Produkt zweier Matrizen; alle Varianten produzieren folgendes Array vom Rang 2:\n",
    "# [[19 22]\n",
    "#  [43 50]]\n",
    "print(x.dot(y))\n",
    "print(np.dot(x, y))\n",
    "print(x @ y)"
   ]
  },
  {
   "cell_type": "markdown",
   "metadata": {
    "colab_type": "text",
    "id": "FbE-1If_L9i0"
   },
   "source": [
    "NumPy bietet viele nützliche Funktionen an, um Berechnungen auf Arrays durchzuführen; eine der nützlichsten ist `sum`:"
   ]
  },
  {
   "cell_type": "code",
   "execution_count": null,
   "metadata": {
    "colab": {
     "base_uri": "https://localhost:8080/",
     "height": 69
    },
    "colab_type": "code",
    "id": "DZUdZvPrL9i0",
    "outputId": "99cad470-d692-4b25-91c9-a57aa25f4c6e",
    "tags": []
   },
   "outputs": [],
   "source": [
    "x = np.array([[1, 2], [3, 4]])\n",
    "\n",
    "print(np.sum(x))  # Berechne die Summe aller Elemente; gibt \"10\" aus\n",
    "print(np.sum(x, axis=0))  # Berechne die Summe jeder Spalte; gibt \"[4 6]\" aus\n",
    "print(np.sum(x, axis=1))  # Berechne die Summe jeder Zeile; gibt \"[3 7]\" aus"
   ]
  },
  {
   "cell_type": "markdown",
   "metadata": {
    "colab_type": "text",
    "id": "ahdVW4iUL9i3"
   },
   "source": [
    "Du kannst die vollständige Liste der mathematischen Funktionen von NumPy in der [Dokumentation](http://docs.scipy.org/doc/numpy/reference/routines.math.html) finden.\n",
    "\n",
    "Neben der Berechnung mathematischer Funktionen mit Arrays müssen wir häufig Daten in Arrays umformen oder anderweitig manipulieren. Das einfachste Beispiel dafür ist die Transposition einer Matrix; um eine Matrix zu transponieren, verwende einfach das Attribut `T` eines Array-Objekts:"
   ]
  },
  {
   "cell_type": "code",
   "execution_count": null,
   "metadata": {
    "colab": {
     "base_uri": "https://localhost:8080/",
     "height": 104
    },
    "colab_type": "code",
    "id": "63Yl1f3oL9i3",
    "outputId": "c75ac7ba-4351-42f8-a09c-a4e0d966ab50",
    "tags": []
   },
   "outputs": [],
   "source": [
    "print(x)\n",
    "print(\"transpose\\n\", x.T)"
   ]
  },
  {
   "cell_type": "code",
   "execution_count": null,
   "metadata": {
    "colab": {
     "base_uri": "https://localhost:8080/",
     "height": 104
    },
    "colab_type": "code",
    "id": "mkk03eNIL9i4",
    "outputId": "499eec5a-55b7-473a-d4aa-9d023d63885a",
    "tags": []
   },
   "outputs": [],
   "source": [
    "v = np.array([[1, 2, 3]])\n",
    "print(v)\n",
    "print(\"transpose\\n\", v.T)"
   ]
  },
  {
   "cell_type": "markdown",
   "metadata": {
    "colab_type": "text",
    "id": "REfLrUTcL9i7"
   },
   "source": [
    "### Broadcasting"
   ]
  },
  {
   "cell_type": "markdown",
   "metadata": {
    "colab_type": "text",
    "id": "EygGAMWqL9i7"
   },
   "source": [
    "Broadcasting ist ein leistungsstarker Mechanismus, der es NumPy ermöglicht bei der Durchführung arithmetischer Operationen mit Arrays unterschiedlicher Formen zu arbeiten. Oft haben wir ein kleineres und ein größeres Array und möchten das kleinere Array mehrmals verwenden, um eine Operation auf dem größeren Array durchzuführen.\n",
    "\n",
    "Nehmen wir zum Beispiel an, dass wir einen konstanten Vektor zu jeder Zeile einer Matrix addieren möchten, können wir das so machen:"
   ]
  },
  {
   "cell_type": "code",
   "execution_count": null,
   "metadata": {
    "colab": {
     "base_uri": "https://localhost:8080/",
     "height": 86
    },
    "colab_type": "code",
    "id": "WEEvkV1ZL9i7",
    "outputId": "3896d03c-3ece-4aa8-f675-aef3a220574d",
    "tags": []
   },
   "outputs": [],
   "source": [
    "# Wir werden den Vektor v zu jeder Zeile der Matrix x hinzufügen\n",
    "# und das Ergebnis in der Matrix y speichern\n",
    "x = np.array([[1, 2, 3], [4, 5, 6], [7, 8, 9], [10, 11, 12]])\n",
    "v = np.array([1, 0, 1])\n",
    "y = np.empty_like(x)  # Erzeuge eine leere Matrix mit der gleichen Form wie x\n",
    "\n",
    "# Füge den Vektor v zu jeder Zeile der Matrix x mit einer expliziten Schleife hinzu\n",
    "for i in range(4):\n",
    "    y[i, :] = x[i, :] + v\n",
    "\n",
    "print(y)"
   ]
  },
  {
   "cell_type": "markdown",
   "metadata": {
    "colab_type": "text",
    "id": "2OlXXupEL9i-"
   },
   "source": [
    "Das funktioniert zwar, jedoch kann eine explizite Schleife in Python sehr langsam sein, wenn die Matrix `x` sehr groß ist. Übrigens ist das Hinzufügen des Vektors `v` zu jeder Zeile der Matrix `x` äquivalent dazu, eine Matrix `vv` zu bilden, indem mehrere Kopien von `v` vertikal gestapelt werden, und dann die elementweise Summation von `x` und `vv` durchzuführen. Wir könnten diesen Ansatz folgendermaßen implementieren:"
   ]
  },
  {
   "cell_type": "code",
   "execution_count": null,
   "metadata": {
    "colab": {
     "base_uri": "https://localhost:8080/",
     "height": 86
    },
    "colab_type": "code",
    "id": "vS7UwAQQL9i-",
    "outputId": "8621e502-c25d-4a18-c973-886dbfd1df36",
    "tags": []
   },
   "outputs": [],
   "source": [
    "vv = np.tile(v, (4, 1))  # Staple 4 Kopien von v übereinander\n",
    "print(vv)  # Gibt \"[[1 0 1]\n",
    "#        [1 0 1]\n",
    "#        [1 0 1]\n",
    "#        [1 0 1]]\" aus"
   ]
  },
  {
   "cell_type": "code",
   "execution_count": null,
   "metadata": {
    "colab": {
     "base_uri": "https://localhost:8080/",
     "height": 86
    },
    "colab_type": "code",
    "id": "N0hJphSIL9jA",
    "outputId": "def6a757-170c-43bf-8728-732dfb133273",
    "tags": []
   },
   "outputs": [],
   "source": [
    "y = x + vv  # Addiere x und vv elementweise\n",
    "print(y)"
   ]
  },
  {
   "cell_type": "markdown",
   "metadata": {
    "colab_type": "text",
    "id": "zHos6RJnL9jB"
   },
   "source": [
    "NumPy-Broadcasting ermöglicht es uns, diese Berechnung durchzuführen, ohne tatsächlich mehrere Kopien von `v` zu erstellen. Betrachte diese Version, die Broadcasting verwendet:"
   ]
  },
  {
   "cell_type": "code",
   "execution_count": null,
   "metadata": {
    "colab": {
     "base_uri": "https://localhost:8080/",
     "height": 86
    },
    "colab_type": "code",
    "id": "vnYFb-gYL9jC",
    "outputId": "df3bea8a-ad72-4a83-90bb-306b55c6fb93",
    "tags": []
   },
   "outputs": [],
   "source": [
    "import numpy as np\n",
    "\n",
    "# Wir werden den Vektor v zu jeder Zeile der Matrix x hinzufügen,\n",
    "# und das Ergebnis in der Matrix y speichern\n",
    "x = np.array([[1, 2, 3], [4, 5, 6], [7, 8, 9], [10, 11, 12]])\n",
    "v = np.array([1, 0, 1])\n",
    "y = x + v  # Addiere v per Broadcasting zu jeder Zeile von x\n",
    "print(y)"
   ]
  },
  {
   "cell_type": "markdown",
   "metadata": {
    "colab_type": "text",
    "id": "08YyIURKL9jH"
   },
   "source": [
    "Durch das Broadcasting funktioniert die Zeile `y = x + v`, obwohl `x` die Form `(4, 3)` und `v` die Form `(3,)` hat. Diese Zeile funktioniert so, als ob `v` tatsächlich die Form `(4, 3)` hätte - wobei jede Zeile eine Kopie von `v` wäre und die Summe elementweise durchgeführt würde.\n",
    "\n",
    "Zwei Arrays 'zusammenzubroadcasten' folgt diesen Regeln:\n",
    "\n",
    "1. Wenn die Arrays nicht denselben Rang haben, stellen sie der Form des Arrays mit dem niedrigeren Rang Einsen vorne an, bis beide Formen dieselbe Länge haben.\n",
    "2. Die beiden Arrays sind in einer Dimension kompatibel, wenn diese bei beiden gleich groß oder bei einem der Arrays Eins ist.\n",
    "3. Ein Broadcast ist möglich, wenn die Arrays in allen Dimensionen kompatibel sind.\n",
    "4. Nach dem Broadcasting verhält sich jedes Array, als ob es die Form des elementweisen Maximums der Formen der beiden Eingabearrays hätte.\n",
    "5. In jeder Dimension, in der ein Array die Größe Eins und das andere Array eine Größe größer als Eins hatte, verhält sich das erste Array, als ob es entlang dieser Dimension kopiert worden wäre.\n",
    "\n",
    "Wenn diese Erklärung nicht verständlich ist, versuche die Erklärung aus der [Dokumentation](http://docs.scipy.org/doc/numpy/user/basics.broadcasting.html) oder diese [Erklärung](http://wiki.scipy.org/EricsBroadcastingDoc) zu lesen.\n",
    "\n",
    "Funktionen, die Broadcasting unterstützen, werden als universelle Funktionen bezeichnet. Du kannst die Liste aller universellen Funktionen in der [Dokumentation](http://docs.scipy.org/doc/numpy/reference/ufuncs.html#available-ufuncs) finden.\n",
    "\n",
    "Hier sind einige Anwendungen von Broadcasting:"
   ]
  },
  {
   "cell_type": "code",
   "execution_count": null,
   "metadata": {
    "colab": {
     "base_uri": "https://localhost:8080/",
     "height": 69
    },
    "colab_type": "code",
    "id": "EmQnwoM9L9jH",
    "outputId": "f59e181e-e2d4-416c-d094-c4d003ce8509",
    "tags": []
   },
   "outputs": [],
   "source": [
    "# Berechne das äußere Produkt von Vektoren\n",
    "v = np.array([1, 2, 3])  # v hat die Form (3,)\n",
    "w = np.array([4, 5])  # w hat die Form (2,)\n",
    "# Um ein äußeres Produkt zu berechnen, formen wir v zuerst zu einem\n",
    "# Spaltenvektor der Form (3, 1) um; dann können wir es gegen w broadcasten,\n",
    "# um eine Ausgabe der Form (3, 2) zu erhalten,\n",
    "# was das äußere Produkt von v und w ist:\n",
    "\n",
    "print(np.reshape(v, (3, 1)) * w)"
   ]
  },
  {
   "cell_type": "code",
   "execution_count": null,
   "metadata": {
    "colab": {
     "base_uri": "https://localhost:8080/",
     "height": 52
    },
    "colab_type": "code",
    "id": "PgotmpcnL9jK",
    "outputId": "567763d3-073a-4e3c-9ebe-6c7d2b6d3446",
    "tags": []
   },
   "outputs": [],
   "source": [
    "# Füge einen Vektor zu jeder Zeile einer Matrix hinzu\n",
    "x = np.array([[1, 2, 3], [4, 5, 6]])\n",
    "# x hat Form (2, 3) und v hat Form (3,), also broadcasten sie zu (2, 3),\n",
    "# und ergeben die folgende Matrix:\n",
    "\n",
    "print(x + v)"
   ]
  },
  {
   "cell_type": "code",
   "execution_count": null,
   "metadata": {
    "colab": {
     "base_uri": "https://localhost:8080/",
     "height": 52
    },
    "colab_type": "code",
    "id": "T5hKS1QaL9jK",
    "outputId": "5f14ac5c-7a21-4216-e91d-cfce5720a804",
    "tags": []
   },
   "outputs": [],
   "source": [
    "# Füge einen Vektor zu jeder Spalte einer Matrix hinzu\n",
    "# x hat Form (2, 3) und w hat Form (2,).\n",
    "# Wenn wir x transponieren, hat es Form (3, 2) und kann gegen w gebroadcastet\n",
    "# werden, um ein Ergebnis der Form (3, 2) zu erhalten; das Transponieren dieses\n",
    "# Ergebnisses liefert das endgültige Ergebnis der Form (2, 3), das die Matrix x\n",
    "# ist, bei welcher der Vektor w zu jeder Spalte hinzugefügt wurde.\n",
    "# Ergibt die folgende Matrix:\n",
    "\n",
    "print((x.T + w).T)"
   ]
  },
  {
   "cell_type": "code",
   "execution_count": null,
   "metadata": {
    "colab": {
     "base_uri": "https://localhost:8080/",
     "height": 52
    },
    "colab_type": "code",
    "id": "JDUrZUl6L9jN",
    "outputId": "53e99a89-c599-406d-9fe3-7aa35ae5fb90",
    "tags": []
   },
   "outputs": [],
   "source": [
    "# Eine weitere Lösung besteht darin, w in einen Zeilenvektor der Form (2, 1)\n",
    "# umzuformen; wir können es dann direkt gegen x broadcasten, um dieselbe\n",
    "# Ausgabe zu erzeugen.\n",
    "print(x + np.reshape(w, (2, 1)))"
   ]
  },
  {
   "cell_type": "code",
   "execution_count": null,
   "metadata": {
    "colab": {
     "base_uri": "https://localhost:8080/",
     "height": 52
    },
    "colab_type": "code",
    "id": "VzrEo4KGL9jP",
    "outputId": "53c9d4cc-32d5-46b0-d090-53c7db57fb32",
    "tags": []
   },
   "outputs": [],
   "source": [
    "# Multiplizieren einer Matrix mit einer Konstanten:\n",
    "# x hat die Form (2, 3). NumPy behandelt Skalare als Arrays der Form ();\n",
    "# diese können per broadcasting zusammengeführt werden, um die Form (2, 3)\n",
    "# zu erzeugen, produzieren also das folgende Array:\n",
    "print(x * 2)"
   ]
  },
  {
   "cell_type": "markdown",
   "metadata": {
    "colab_type": "text",
    "id": "89e2FXxFL9jQ"
   },
   "source": [
    "Broadcasting macht deinen Code in der Regel kompakter und schneller, daher solltest du versuchen es wann immer möglich auch anzuwenden."
   ]
  },
  {
   "cell_type": "markdown",
   "metadata": {
    "colab_type": "text",
    "id": "iF3ZtwVNL9jQ"
   },
   "source": [
    "Diese kurze Übersicht hat viele wichtige Dinge angesprochen, die man über NumPy wissen sollte, ist jedoch bei weitem nicht vollständig. Schaue dir die [NumPy-Referenz](http://docs.scipy.org/doc/numpy/reference/) an, um noch viel mehr über NumPy zu erfahren."
   ]
  },
  {
   "cell_type": "markdown",
   "metadata": {
    "colab_type": "text",
    "id": "tEINf4bEL9jR"
   },
   "source": [
    "## Matplotlib"
   ]
  },
  {
   "cell_type": "markdown",
   "metadata": {
    "colab_type": "text",
    "id": "0hgVWLaXL9jR"
   },
   "source": [
    "Matplotlib ist eine Plotting-Bibliothek. Diesem Abschnitt ist eine kurze Einführung in das Modul `matplotlib.pyplot`, das es ermöglicht Daten grafisch auszugeben, was in vielen Situationen die Auswertung von z.B. Sensordaten ermöglicht und euch damit die Entwicklung erheblich erleichtern kann."
   ]
  },
  {
   "cell_type": "code",
   "execution_count": null,
   "metadata": {
    "colab": {},
    "colab_type": "code",
    "id": "cmh_7c6KL9jR",
    "tags": []
   },
   "outputs": [],
   "source": [
    "import matplotlib.pyplot as plt"
   ]
  },
  {
   "cell_type": "markdown",
   "metadata": {
    "colab_type": "text",
    "id": "U5Z_oMoLL9jV"
   },
   "source": [
    "### Plotting"
   ]
  },
  {
   "cell_type": "markdown",
   "metadata": {
    "colab_type": "text",
    "id": "6QyFJ7dhL9jV"
   },
   "source": [
    "Die wichtigste Funktion in `matplotlib` ist `plot`, mit der du 2D-Daten plotten kannst. Hier ist ein einfaches Beispiel:"
   ]
  },
  {
   "cell_type": "code",
   "execution_count": null,
   "metadata": {
    "colab": {
     "base_uri": "https://localhost:8080/",
     "height": 282
    },
    "colab_type": "code",
    "id": "pua52BGeL9jW",
    "outputId": "9ac3ee0f-7ff7-463b-b901-c33d21a2b10c",
    "tags": []
   },
   "outputs": [],
   "source": [
    "# Berechne die x- und y-Koordinaten für Punkte auf einer Sinuskurve\n",
    "x = np.arange(0, 3 * np.pi, 0.1)\n",
    "y = np.sin(x)\n",
    "\n",
    "# Plotte die Punkte mit matplotlib\n",
    "plt.plot(x, y)"
   ]
  },
  {
   "cell_type": "markdown",
   "metadata": {
    "colab_type": "text",
    "id": "9W2VAcLiL9jX"
   },
   "source": [
    "Mit nur ein wenig zusätzlicher Arbeit können wir problemlos mehrere Linien gleichzeitig plotten und einen Titel, eine Legende und Achsenbeschriftungen hinzufügen:"
   ]
  },
  {
   "cell_type": "code",
   "execution_count": null,
   "metadata": {
    "colab": {
     "base_uri": "https://localhost:8080/",
     "height": 312
    },
    "colab_type": "code",
    "id": "TfCQHJ5AL9jY",
    "outputId": "fdb9c033-0f06-4041-a69d-a0f3a54c7206",
    "tags": []
   },
   "outputs": [],
   "source": [
    "y_sin = np.sin(x)\n",
    "y_cos = np.cos(x)\n",
    "\n",
    "# Plotte die Punkte mit matplotlib\n",
    "plt.plot(x, y_sin)\n",
    "plt.plot(x, y_cos)\n",
    "plt.xlabel(\"x-Achsenbeschriftung\")\n",
    "plt.ylabel(\"y-Achsenbeschriftung\")\n",
    "plt.title(\"Sinus und Cosinus\")\n",
    "plt.legend([\"Sinus\", \"Cosinus\"])"
   ]
  },
  {
   "cell_type": "markdown",
   "metadata": {
    "colab_type": "text",
    "id": "R5IeAY03L9ja"
   },
   "source": [
    "### Subplots "
   ]
  },
  {
   "cell_type": "markdown",
   "metadata": {
    "colab_type": "text",
    "id": "CfUzwJg0L9ja"
   },
   "source": [
    "Du kannst verschiedene Dinge im selben Diagramm mit der Funktion `subplot` plotten. Hier ist ein Beispiel:"
   ]
  },
  {
   "cell_type": "code",
   "execution_count": null,
   "metadata": {
    "colab": {
     "base_uri": "https://localhost:8080/",
     "height": 281
    },
    "colab_type": "code",
    "id": "dM23yGH9L9ja",
    "outputId": "14dfa5ea-f453-4da5-a2ee-fea0de8f72d9",
    "tags": []
   },
   "outputs": [],
   "source": [
    "# Berechne die x- und y-Koordinaten für Punkte auf den Sinus- und Kosinus-Kurven.\n",
    "x = np.arange(0, 3 * np.pi, 0.1)\n",
    "y_sin = np.sin(x)\n",
    "y_cos = np.cos(x)\n",
    "\n",
    "# Richte ein Subplot-Raster ein, das eine Höhe von 2 und eine Breite von 1 hat,\n",
    "# und setze das erste solche Subplot als aktiv.\n",
    "plt.subplot(2, 1, 1)\n",
    "\n",
    "# Erstelle den ersten Plot.\n",
    "plt.plot(x, y_sin)\n",
    "plt.title(\"Sinus\")\n",
    "\n",
    "# Setze den zweiten Subplot als aktiv und plote zum zweiten mal.\n",
    "plt.subplot(2, 1, 2)\n",
    "plt.plot(x, y_cos)\n",
    "plt.title(\"Kosinus\")\n",
    "\n",
    "# Zeige das Diagramm an.\n",
    "plt.show()"
   ]
  },
  {
   "cell_type": "markdown",
   "metadata": {
    "colab_type": "text",
    "id": "gLtsST5SL9jc"
   },
   "source": [
    "Du kannst viel mehr über die `subplot`-Funktion in der [Dokumentation](https://matplotlib.org/stable/api/_as_gen/matplotlib.pyplot.subplot.html) nachlesen."
   ]
  },
  {
   "cell_type": "code",
   "execution_count": null,
   "metadata": {
    "colab": {},
    "colab_type": "code",
    "id": "eJXA5AWSL9jc"
   },
   "outputs": [],
   "source": []
  }
 ],
 "metadata": {
  "colab": {
   "collapsed_sections": [],
   "name": "colab-tutorial.ipynb",
   "provenance": []
  },
  "kernelspec": {
   "display_name": "Python 3 (ipykernel)",
   "language": "python",
   "name": "python3"
  },
  "language_info": {
   "codemirror_mode": {
    "name": "ipython",
    "version": 3
   },
   "file_extension": ".py",
   "mimetype": "text/x-python",
   "name": "python",
   "nbconvert_exporter": "python",
   "pygments_lexer": "ipython3",
   "version": "3.10.13"
  }
 },
 "nbformat": 4,
 "nbformat_minor": 4
}
